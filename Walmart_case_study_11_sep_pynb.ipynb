{
  "cells": [
    {
      "cell_type": "code",
      "execution_count": 4,
      "metadata": {
        "id": "rYT3L9HFHtLK"
      },
      "outputs": [],
      "source": [
        "import numpy as np\n",
        "import pandas as pd\n",
        "import seaborn as sns\n",
        "import matplotlib.pyplot as plt\n",
        "from scipy.stats import norm"
      ]
    },
    {
      "cell_type": "code",
      "execution_count": 5,
      "metadata": {
        "colab": {
          "base_uri": "https://localhost:8080/",
          "height": 287
        },
        "id": "tm9_ODF_KSUo",
        "outputId": "ec9bdcac-2e4b-46f3-ba92-bf015f91478f"
      },
      "outputs": [
        {
          "output_type": "execute_result",
          "data": {
            "text/plain": [
              "   User_ID Product_ID Gender   Age  Occupation City_Category  \\\n",
              "0  1000001  P00069042      F  0-17          10             A   \n",
              "1  1000001  P00248942      F  0-17          10             A   \n",
              "2  1000001  P00087842      F  0-17          10             A   \n",
              "3  1000001  P00085442      F  0-17          10             A   \n",
              "4  1000002  P00285442      M   55+          16             C   \n",
              "\n",
              "  Stay_In_Current_City_Years  Marital_Status  Product_Category  Purchase  \n",
              "0                          2               0                 3      8370  \n",
              "1                          2               0                 1     15200  \n",
              "2                          2               0                12      1422  \n",
              "3                          2               0                12      1057  \n",
              "4                         4+               0                 8      7969  "
            ],
            "text/html": [
              "\n",
              "  <div id=\"df-2c88ef1e-630a-42ec-b800-e3dbc9df8da5\" class=\"colab-df-container\">\n",
              "    <div>\n",
              "<style scoped>\n",
              "    .dataframe tbody tr th:only-of-type {\n",
              "        vertical-align: middle;\n",
              "    }\n",
              "\n",
              "    .dataframe tbody tr th {\n",
              "        vertical-align: top;\n",
              "    }\n",
              "\n",
              "    .dataframe thead th {\n",
              "        text-align: right;\n",
              "    }\n",
              "</style>\n",
              "<table border=\"1\" class=\"dataframe\">\n",
              "  <thead>\n",
              "    <tr style=\"text-align: right;\">\n",
              "      <th></th>\n",
              "      <th>User_ID</th>\n",
              "      <th>Product_ID</th>\n",
              "      <th>Gender</th>\n",
              "      <th>Age</th>\n",
              "      <th>Occupation</th>\n",
              "      <th>City_Category</th>\n",
              "      <th>Stay_In_Current_City_Years</th>\n",
              "      <th>Marital_Status</th>\n",
              "      <th>Product_Category</th>\n",
              "      <th>Purchase</th>\n",
              "    </tr>\n",
              "  </thead>\n",
              "  <tbody>\n",
              "    <tr>\n",
              "      <th>0</th>\n",
              "      <td>1000001</td>\n",
              "      <td>P00069042</td>\n",
              "      <td>F</td>\n",
              "      <td>0-17</td>\n",
              "      <td>10</td>\n",
              "      <td>A</td>\n",
              "      <td>2</td>\n",
              "      <td>0</td>\n",
              "      <td>3</td>\n",
              "      <td>8370</td>\n",
              "    </tr>\n",
              "    <tr>\n",
              "      <th>1</th>\n",
              "      <td>1000001</td>\n",
              "      <td>P00248942</td>\n",
              "      <td>F</td>\n",
              "      <td>0-17</td>\n",
              "      <td>10</td>\n",
              "      <td>A</td>\n",
              "      <td>2</td>\n",
              "      <td>0</td>\n",
              "      <td>1</td>\n",
              "      <td>15200</td>\n",
              "    </tr>\n",
              "    <tr>\n",
              "      <th>2</th>\n",
              "      <td>1000001</td>\n",
              "      <td>P00087842</td>\n",
              "      <td>F</td>\n",
              "      <td>0-17</td>\n",
              "      <td>10</td>\n",
              "      <td>A</td>\n",
              "      <td>2</td>\n",
              "      <td>0</td>\n",
              "      <td>12</td>\n",
              "      <td>1422</td>\n",
              "    </tr>\n",
              "    <tr>\n",
              "      <th>3</th>\n",
              "      <td>1000001</td>\n",
              "      <td>P00085442</td>\n",
              "      <td>F</td>\n",
              "      <td>0-17</td>\n",
              "      <td>10</td>\n",
              "      <td>A</td>\n",
              "      <td>2</td>\n",
              "      <td>0</td>\n",
              "      <td>12</td>\n",
              "      <td>1057</td>\n",
              "    </tr>\n",
              "    <tr>\n",
              "      <th>4</th>\n",
              "      <td>1000002</td>\n",
              "      <td>P00285442</td>\n",
              "      <td>M</td>\n",
              "      <td>55+</td>\n",
              "      <td>16</td>\n",
              "      <td>C</td>\n",
              "      <td>4+</td>\n",
              "      <td>0</td>\n",
              "      <td>8</td>\n",
              "      <td>7969</td>\n",
              "    </tr>\n",
              "  </tbody>\n",
              "</table>\n",
              "</div>\n",
              "    <div class=\"colab-df-buttons\">\n",
              "\n",
              "  <div class=\"colab-df-container\">\n",
              "    <button class=\"colab-df-convert\" onclick=\"convertToInteractive('df-2c88ef1e-630a-42ec-b800-e3dbc9df8da5')\"\n",
              "            title=\"Convert this dataframe to an interactive table.\"\n",
              "            style=\"display:none;\">\n",
              "\n",
              "  <svg xmlns=\"http://www.w3.org/2000/svg\" height=\"24px\" viewBox=\"0 -960 960 960\">\n",
              "    <path d=\"M120-120v-720h720v720H120Zm60-500h600v-160H180v160Zm220 220h160v-160H400v160Zm0 220h160v-160H400v160ZM180-400h160v-160H180v160Zm440 0h160v-160H620v160ZM180-180h160v-160H180v160Zm440 0h160v-160H620v160Z\"/>\n",
              "  </svg>\n",
              "    </button>\n",
              "\n",
              "  <style>\n",
              "    .colab-df-container {\n",
              "      display:flex;\n",
              "      gap: 12px;\n",
              "    }\n",
              "\n",
              "    .colab-df-convert {\n",
              "      background-color: #E8F0FE;\n",
              "      border: none;\n",
              "      border-radius: 50%;\n",
              "      cursor: pointer;\n",
              "      display: none;\n",
              "      fill: #1967D2;\n",
              "      height: 32px;\n",
              "      padding: 0 0 0 0;\n",
              "      width: 32px;\n",
              "    }\n",
              "\n",
              "    .colab-df-convert:hover {\n",
              "      background-color: #E2EBFA;\n",
              "      box-shadow: 0px 1px 2px rgba(60, 64, 67, 0.3), 0px 1px 3px 1px rgba(60, 64, 67, 0.15);\n",
              "      fill: #174EA6;\n",
              "    }\n",
              "\n",
              "    .colab-df-buttons div {\n",
              "      margin-bottom: 4px;\n",
              "    }\n",
              "\n",
              "    [theme=dark] .colab-df-convert {\n",
              "      background-color: #3B4455;\n",
              "      fill: #D2E3FC;\n",
              "    }\n",
              "\n",
              "    [theme=dark] .colab-df-convert:hover {\n",
              "      background-color: #434B5C;\n",
              "      box-shadow: 0px 1px 3px 1px rgba(0, 0, 0, 0.15);\n",
              "      filter: drop-shadow(0px 1px 2px rgba(0, 0, 0, 0.3));\n",
              "      fill: #FFFFFF;\n",
              "    }\n",
              "  </style>\n",
              "\n",
              "    <script>\n",
              "      const buttonEl =\n",
              "        document.querySelector('#df-2c88ef1e-630a-42ec-b800-e3dbc9df8da5 button.colab-df-convert');\n",
              "      buttonEl.style.display =\n",
              "        google.colab.kernel.accessAllowed ? 'block' : 'none';\n",
              "\n",
              "      async function convertToInteractive(key) {\n",
              "        const element = document.querySelector('#df-2c88ef1e-630a-42ec-b800-e3dbc9df8da5');\n",
              "        const dataTable =\n",
              "          await google.colab.kernel.invokeFunction('convertToInteractive',\n",
              "                                                    [key], {});\n",
              "        if (!dataTable) return;\n",
              "\n",
              "        const docLinkHtml = 'Like what you see? Visit the ' +\n",
              "          '<a target=\"_blank\" href=https://colab.research.google.com/notebooks/data_table.ipynb>data table notebook</a>'\n",
              "          + ' to learn more about interactive tables.';\n",
              "        element.innerHTML = '';\n",
              "        dataTable['output_type'] = 'display_data';\n",
              "        await google.colab.output.renderOutput(dataTable, element);\n",
              "        const docLink = document.createElement('div');\n",
              "        docLink.innerHTML = docLinkHtml;\n",
              "        element.appendChild(docLink);\n",
              "      }\n",
              "    </script>\n",
              "  </div>\n",
              "\n",
              "\n",
              "    <div id=\"df-defebc2c-56cf-4dcf-a47a-f4349366da1d\">\n",
              "      <button class=\"colab-df-quickchart\" onclick=\"quickchart('df-defebc2c-56cf-4dcf-a47a-f4349366da1d')\"\n",
              "                title=\"Suggest charts\"\n",
              "                style=\"display:none;\">\n",
              "\n",
              "<svg xmlns=\"http://www.w3.org/2000/svg\" height=\"24px\"viewBox=\"0 0 24 24\"\n",
              "     width=\"24px\">\n",
              "    <g>\n",
              "        <path d=\"M19 3H5c-1.1 0-2 .9-2 2v14c0 1.1.9 2 2 2h14c1.1 0 2-.9 2-2V5c0-1.1-.9-2-2-2zM9 17H7v-7h2v7zm4 0h-2V7h2v10zm4 0h-2v-4h2v4z\"/>\n",
              "    </g>\n",
              "</svg>\n",
              "      </button>\n",
              "\n",
              "<style>\n",
              "  .colab-df-quickchart {\n",
              "      --bg-color: #E8F0FE;\n",
              "      --fill-color: #1967D2;\n",
              "      --hover-bg-color: #E2EBFA;\n",
              "      --hover-fill-color: #174EA6;\n",
              "      --disabled-fill-color: #AAA;\n",
              "      --disabled-bg-color: #DDD;\n",
              "  }\n",
              "\n",
              "  [theme=dark] .colab-df-quickchart {\n",
              "      --bg-color: #3B4455;\n",
              "      --fill-color: #D2E3FC;\n",
              "      --hover-bg-color: #434B5C;\n",
              "      --hover-fill-color: #FFFFFF;\n",
              "      --disabled-bg-color: #3B4455;\n",
              "      --disabled-fill-color: #666;\n",
              "  }\n",
              "\n",
              "  .colab-df-quickchart {\n",
              "    background-color: var(--bg-color);\n",
              "    border: none;\n",
              "    border-radius: 50%;\n",
              "    cursor: pointer;\n",
              "    display: none;\n",
              "    fill: var(--fill-color);\n",
              "    height: 32px;\n",
              "    padding: 0;\n",
              "    width: 32px;\n",
              "  }\n",
              "\n",
              "  .colab-df-quickchart:hover {\n",
              "    background-color: var(--hover-bg-color);\n",
              "    box-shadow: 0 1px 2px rgba(60, 64, 67, 0.3), 0 1px 3px 1px rgba(60, 64, 67, 0.15);\n",
              "    fill: var(--button-hover-fill-color);\n",
              "  }\n",
              "\n",
              "  .colab-df-quickchart-complete:disabled,\n",
              "  .colab-df-quickchart-complete:disabled:hover {\n",
              "    background-color: var(--disabled-bg-color);\n",
              "    fill: var(--disabled-fill-color);\n",
              "    box-shadow: none;\n",
              "  }\n",
              "\n",
              "  .colab-df-spinner {\n",
              "    border: 2px solid var(--fill-color);\n",
              "    border-color: transparent;\n",
              "    border-bottom-color: var(--fill-color);\n",
              "    animation:\n",
              "      spin 1s steps(1) infinite;\n",
              "  }\n",
              "\n",
              "  @keyframes spin {\n",
              "    0% {\n",
              "      border-color: transparent;\n",
              "      border-bottom-color: var(--fill-color);\n",
              "      border-left-color: var(--fill-color);\n",
              "    }\n",
              "    20% {\n",
              "      border-color: transparent;\n",
              "      border-left-color: var(--fill-color);\n",
              "      border-top-color: var(--fill-color);\n",
              "    }\n",
              "    30% {\n",
              "      border-color: transparent;\n",
              "      border-left-color: var(--fill-color);\n",
              "      border-top-color: var(--fill-color);\n",
              "      border-right-color: var(--fill-color);\n",
              "    }\n",
              "    40% {\n",
              "      border-color: transparent;\n",
              "      border-right-color: var(--fill-color);\n",
              "      border-top-color: var(--fill-color);\n",
              "    }\n",
              "    60% {\n",
              "      border-color: transparent;\n",
              "      border-right-color: var(--fill-color);\n",
              "    }\n",
              "    80% {\n",
              "      border-color: transparent;\n",
              "      border-right-color: var(--fill-color);\n",
              "      border-bottom-color: var(--fill-color);\n",
              "    }\n",
              "    90% {\n",
              "      border-color: transparent;\n",
              "      border-bottom-color: var(--fill-color);\n",
              "    }\n",
              "  }\n",
              "</style>\n",
              "\n",
              "      <script>\n",
              "        async function quickchart(key) {\n",
              "          const quickchartButtonEl =\n",
              "            document.querySelector('#' + key + ' button');\n",
              "          quickchartButtonEl.disabled = true;  // To prevent multiple clicks.\n",
              "          quickchartButtonEl.classList.add('colab-df-spinner');\n",
              "          try {\n",
              "            const charts = await google.colab.kernel.invokeFunction(\n",
              "                'suggestCharts', [key], {});\n",
              "          } catch (error) {\n",
              "            console.error('Error during call to suggestCharts:', error);\n",
              "          }\n",
              "          quickchartButtonEl.classList.remove('colab-df-spinner');\n",
              "          quickchartButtonEl.classList.add('colab-df-quickchart-complete');\n",
              "        }\n",
              "        (() => {\n",
              "          let quickchartButtonEl =\n",
              "            document.querySelector('#df-defebc2c-56cf-4dcf-a47a-f4349366da1d button');\n",
              "          quickchartButtonEl.style.display =\n",
              "            google.colab.kernel.accessAllowed ? 'block' : 'none';\n",
              "        })();\n",
              "      </script>\n",
              "    </div>\n",
              "\n",
              "    </div>\n",
              "  </div>\n"
            ],
            "application/vnd.google.colaboratory.intrinsic+json": {
              "type": "dataframe",
              "variable_name": "df"
            }
          },
          "metadata": {},
          "execution_count": 5
        }
      ],
      "source": [
        "df=pd.read_csv('walmart_data.csv')\n",
        "df.head()"
      ]
    },
    {
      "cell_type": "code",
      "execution_count": 6,
      "metadata": {
        "colab": {
          "base_uri": "https://localhost:8080/"
        },
        "id": "8rqeULwHK2eD",
        "outputId": "dbc80e80-54f8-4a26-b0ca-28f8a7295296"
      },
      "outputs": [
        {
          "output_type": "execute_result",
          "data": {
            "text/plain": [
              "(550068, 10)"
            ]
          },
          "metadata": {},
          "execution_count": 6
        }
      ],
      "source": [
        "df.shape"
      ]
    },
    {
      "cell_type": "code",
      "execution_count": 7,
      "metadata": {
        "colab": {
          "base_uri": "https://localhost:8080/"
        },
        "id": "vdDkTgwfLARJ",
        "outputId": "8e104051-1133-4b1e-db54-292cdc1b84d3"
      },
      "outputs": [
        {
          "output_type": "stream",
          "name": "stdout",
          "text": [
            "<class 'pandas.core.frame.DataFrame'>\n",
            "RangeIndex: 550068 entries, 0 to 550067\n",
            "Data columns (total 10 columns):\n",
            " #   Column                      Non-Null Count   Dtype \n",
            "---  ------                      --------------   ----- \n",
            " 0   User_ID                     550068 non-null  int64 \n",
            " 1   Product_ID                  550068 non-null  object\n",
            " 2   Gender                      550068 non-null  object\n",
            " 3   Age                         550068 non-null  object\n",
            " 4   Occupation                  550068 non-null  int64 \n",
            " 5   City_Category               550068 non-null  object\n",
            " 6   Stay_In_Current_City_Years  550068 non-null  object\n",
            " 7   Marital_Status              550068 non-null  int64 \n",
            " 8   Product_Category            550068 non-null  int64 \n",
            " 9   Purchase                    550068 non-null  int64 \n",
            "dtypes: int64(5), object(5)\n",
            "memory usage: 42.0+ MB\n"
          ]
        }
      ],
      "source": [
        "df.info()"
      ]
    },
    {
      "cell_type": "code",
      "execution_count": 8,
      "metadata": {
        "colab": {
          "base_uri": "https://localhost:8080/",
          "height": 313
        },
        "id": "ucHiifr_LHmG",
        "outputId": "df014db9-14bf-44fd-decb-d7701cefe01b"
      },
      "outputs": [
        {
          "output_type": "execute_result",
          "data": {
            "text/plain": [
              "            User_ID     Occupation  Marital_Status  Product_Category  \\\n",
              "count  5.500680e+05  550068.000000   550068.000000     550068.000000   \n",
              "mean   1.003029e+06       8.076707        0.409653          5.404270   \n",
              "std    1.727592e+03       6.522660        0.491770          3.936211   \n",
              "min    1.000001e+06       0.000000        0.000000          1.000000   \n",
              "25%    1.001516e+06       2.000000        0.000000          1.000000   \n",
              "50%    1.003077e+06       7.000000        0.000000          5.000000   \n",
              "75%    1.004478e+06      14.000000        1.000000          8.000000   \n",
              "max    1.006040e+06      20.000000        1.000000         20.000000   \n",
              "\n",
              "            Purchase  \n",
              "count  550068.000000  \n",
              "mean     9263.968713  \n",
              "std      5023.065394  \n",
              "min        12.000000  \n",
              "25%      5823.000000  \n",
              "50%      8047.000000  \n",
              "75%     12054.000000  \n",
              "max     23961.000000  "
            ],
            "text/html": [
              "\n",
              "  <div id=\"df-ddd34c9e-9ff1-4cc6-a4e8-1db22fc8fa91\" class=\"colab-df-container\">\n",
              "    <div>\n",
              "<style scoped>\n",
              "    .dataframe tbody tr th:only-of-type {\n",
              "        vertical-align: middle;\n",
              "    }\n",
              "\n",
              "    .dataframe tbody tr th {\n",
              "        vertical-align: top;\n",
              "    }\n",
              "\n",
              "    .dataframe thead th {\n",
              "        text-align: right;\n",
              "    }\n",
              "</style>\n",
              "<table border=\"1\" class=\"dataframe\">\n",
              "  <thead>\n",
              "    <tr style=\"text-align: right;\">\n",
              "      <th></th>\n",
              "      <th>User_ID</th>\n",
              "      <th>Occupation</th>\n",
              "      <th>Marital_Status</th>\n",
              "      <th>Product_Category</th>\n",
              "      <th>Purchase</th>\n",
              "    </tr>\n",
              "  </thead>\n",
              "  <tbody>\n",
              "    <tr>\n",
              "      <th>count</th>\n",
              "      <td>5.500680e+05</td>\n",
              "      <td>550068.000000</td>\n",
              "      <td>550068.000000</td>\n",
              "      <td>550068.000000</td>\n",
              "      <td>550068.000000</td>\n",
              "    </tr>\n",
              "    <tr>\n",
              "      <th>mean</th>\n",
              "      <td>1.003029e+06</td>\n",
              "      <td>8.076707</td>\n",
              "      <td>0.409653</td>\n",
              "      <td>5.404270</td>\n",
              "      <td>9263.968713</td>\n",
              "    </tr>\n",
              "    <tr>\n",
              "      <th>std</th>\n",
              "      <td>1.727592e+03</td>\n",
              "      <td>6.522660</td>\n",
              "      <td>0.491770</td>\n",
              "      <td>3.936211</td>\n",
              "      <td>5023.065394</td>\n",
              "    </tr>\n",
              "    <tr>\n",
              "      <th>min</th>\n",
              "      <td>1.000001e+06</td>\n",
              "      <td>0.000000</td>\n",
              "      <td>0.000000</td>\n",
              "      <td>1.000000</td>\n",
              "      <td>12.000000</td>\n",
              "    </tr>\n",
              "    <tr>\n",
              "      <th>25%</th>\n",
              "      <td>1.001516e+06</td>\n",
              "      <td>2.000000</td>\n",
              "      <td>0.000000</td>\n",
              "      <td>1.000000</td>\n",
              "      <td>5823.000000</td>\n",
              "    </tr>\n",
              "    <tr>\n",
              "      <th>50%</th>\n",
              "      <td>1.003077e+06</td>\n",
              "      <td>7.000000</td>\n",
              "      <td>0.000000</td>\n",
              "      <td>5.000000</td>\n",
              "      <td>8047.000000</td>\n",
              "    </tr>\n",
              "    <tr>\n",
              "      <th>75%</th>\n",
              "      <td>1.004478e+06</td>\n",
              "      <td>14.000000</td>\n",
              "      <td>1.000000</td>\n",
              "      <td>8.000000</td>\n",
              "      <td>12054.000000</td>\n",
              "    </tr>\n",
              "    <tr>\n",
              "      <th>max</th>\n",
              "      <td>1.006040e+06</td>\n",
              "      <td>20.000000</td>\n",
              "      <td>1.000000</td>\n",
              "      <td>20.000000</td>\n",
              "      <td>23961.000000</td>\n",
              "    </tr>\n",
              "  </tbody>\n",
              "</table>\n",
              "</div>\n",
              "    <div class=\"colab-df-buttons\">\n",
              "\n",
              "  <div class=\"colab-df-container\">\n",
              "    <button class=\"colab-df-convert\" onclick=\"convertToInteractive('df-ddd34c9e-9ff1-4cc6-a4e8-1db22fc8fa91')\"\n",
              "            title=\"Convert this dataframe to an interactive table.\"\n",
              "            style=\"display:none;\">\n",
              "\n",
              "  <svg xmlns=\"http://www.w3.org/2000/svg\" height=\"24px\" viewBox=\"0 -960 960 960\">\n",
              "    <path d=\"M120-120v-720h720v720H120Zm60-500h600v-160H180v160Zm220 220h160v-160H400v160Zm0 220h160v-160H400v160ZM180-400h160v-160H180v160Zm440 0h160v-160H620v160ZM180-180h160v-160H180v160Zm440 0h160v-160H620v160Z\"/>\n",
              "  </svg>\n",
              "    </button>\n",
              "\n",
              "  <style>\n",
              "    .colab-df-container {\n",
              "      display:flex;\n",
              "      gap: 12px;\n",
              "    }\n",
              "\n",
              "    .colab-df-convert {\n",
              "      background-color: #E8F0FE;\n",
              "      border: none;\n",
              "      border-radius: 50%;\n",
              "      cursor: pointer;\n",
              "      display: none;\n",
              "      fill: #1967D2;\n",
              "      height: 32px;\n",
              "      padding: 0 0 0 0;\n",
              "      width: 32px;\n",
              "    }\n",
              "\n",
              "    .colab-df-convert:hover {\n",
              "      background-color: #E2EBFA;\n",
              "      box-shadow: 0px 1px 2px rgba(60, 64, 67, 0.3), 0px 1px 3px 1px rgba(60, 64, 67, 0.15);\n",
              "      fill: #174EA6;\n",
              "    }\n",
              "\n",
              "    .colab-df-buttons div {\n",
              "      margin-bottom: 4px;\n",
              "    }\n",
              "\n",
              "    [theme=dark] .colab-df-convert {\n",
              "      background-color: #3B4455;\n",
              "      fill: #D2E3FC;\n",
              "    }\n",
              "\n",
              "    [theme=dark] .colab-df-convert:hover {\n",
              "      background-color: #434B5C;\n",
              "      box-shadow: 0px 1px 3px 1px rgba(0, 0, 0, 0.15);\n",
              "      filter: drop-shadow(0px 1px 2px rgba(0, 0, 0, 0.3));\n",
              "      fill: #FFFFFF;\n",
              "    }\n",
              "  </style>\n",
              "\n",
              "    <script>\n",
              "      const buttonEl =\n",
              "        document.querySelector('#df-ddd34c9e-9ff1-4cc6-a4e8-1db22fc8fa91 button.colab-df-convert');\n",
              "      buttonEl.style.display =\n",
              "        google.colab.kernel.accessAllowed ? 'block' : 'none';\n",
              "\n",
              "      async function convertToInteractive(key) {\n",
              "        const element = document.querySelector('#df-ddd34c9e-9ff1-4cc6-a4e8-1db22fc8fa91');\n",
              "        const dataTable =\n",
              "          await google.colab.kernel.invokeFunction('convertToInteractive',\n",
              "                                                    [key], {});\n",
              "        if (!dataTable) return;\n",
              "\n",
              "        const docLinkHtml = 'Like what you see? Visit the ' +\n",
              "          '<a target=\"_blank\" href=https://colab.research.google.com/notebooks/data_table.ipynb>data table notebook</a>'\n",
              "          + ' to learn more about interactive tables.';\n",
              "        element.innerHTML = '';\n",
              "        dataTable['output_type'] = 'display_data';\n",
              "        await google.colab.output.renderOutput(dataTable, element);\n",
              "        const docLink = document.createElement('div');\n",
              "        docLink.innerHTML = docLinkHtml;\n",
              "        element.appendChild(docLink);\n",
              "      }\n",
              "    </script>\n",
              "  </div>\n",
              "\n",
              "\n",
              "    <div id=\"df-6d2490b3-541e-4cb5-9c8c-1065a07c008e\">\n",
              "      <button class=\"colab-df-quickchart\" onclick=\"quickchart('df-6d2490b3-541e-4cb5-9c8c-1065a07c008e')\"\n",
              "                title=\"Suggest charts\"\n",
              "                style=\"display:none;\">\n",
              "\n",
              "<svg xmlns=\"http://www.w3.org/2000/svg\" height=\"24px\"viewBox=\"0 0 24 24\"\n",
              "     width=\"24px\">\n",
              "    <g>\n",
              "        <path d=\"M19 3H5c-1.1 0-2 .9-2 2v14c0 1.1.9 2 2 2h14c1.1 0 2-.9 2-2V5c0-1.1-.9-2-2-2zM9 17H7v-7h2v7zm4 0h-2V7h2v10zm4 0h-2v-4h2v4z\"/>\n",
              "    </g>\n",
              "</svg>\n",
              "      </button>\n",
              "\n",
              "<style>\n",
              "  .colab-df-quickchart {\n",
              "      --bg-color: #E8F0FE;\n",
              "      --fill-color: #1967D2;\n",
              "      --hover-bg-color: #E2EBFA;\n",
              "      --hover-fill-color: #174EA6;\n",
              "      --disabled-fill-color: #AAA;\n",
              "      --disabled-bg-color: #DDD;\n",
              "  }\n",
              "\n",
              "  [theme=dark] .colab-df-quickchart {\n",
              "      --bg-color: #3B4455;\n",
              "      --fill-color: #D2E3FC;\n",
              "      --hover-bg-color: #434B5C;\n",
              "      --hover-fill-color: #FFFFFF;\n",
              "      --disabled-bg-color: #3B4455;\n",
              "      --disabled-fill-color: #666;\n",
              "  }\n",
              "\n",
              "  .colab-df-quickchart {\n",
              "    background-color: var(--bg-color);\n",
              "    border: none;\n",
              "    border-radius: 50%;\n",
              "    cursor: pointer;\n",
              "    display: none;\n",
              "    fill: var(--fill-color);\n",
              "    height: 32px;\n",
              "    padding: 0;\n",
              "    width: 32px;\n",
              "  }\n",
              "\n",
              "  .colab-df-quickchart:hover {\n",
              "    background-color: var(--hover-bg-color);\n",
              "    box-shadow: 0 1px 2px rgba(60, 64, 67, 0.3), 0 1px 3px 1px rgba(60, 64, 67, 0.15);\n",
              "    fill: var(--button-hover-fill-color);\n",
              "  }\n",
              "\n",
              "  .colab-df-quickchart-complete:disabled,\n",
              "  .colab-df-quickchart-complete:disabled:hover {\n",
              "    background-color: var(--disabled-bg-color);\n",
              "    fill: var(--disabled-fill-color);\n",
              "    box-shadow: none;\n",
              "  }\n",
              "\n",
              "  .colab-df-spinner {\n",
              "    border: 2px solid var(--fill-color);\n",
              "    border-color: transparent;\n",
              "    border-bottom-color: var(--fill-color);\n",
              "    animation:\n",
              "      spin 1s steps(1) infinite;\n",
              "  }\n",
              "\n",
              "  @keyframes spin {\n",
              "    0% {\n",
              "      border-color: transparent;\n",
              "      border-bottom-color: var(--fill-color);\n",
              "      border-left-color: var(--fill-color);\n",
              "    }\n",
              "    20% {\n",
              "      border-color: transparent;\n",
              "      border-left-color: var(--fill-color);\n",
              "      border-top-color: var(--fill-color);\n",
              "    }\n",
              "    30% {\n",
              "      border-color: transparent;\n",
              "      border-left-color: var(--fill-color);\n",
              "      border-top-color: var(--fill-color);\n",
              "      border-right-color: var(--fill-color);\n",
              "    }\n",
              "    40% {\n",
              "      border-color: transparent;\n",
              "      border-right-color: var(--fill-color);\n",
              "      border-top-color: var(--fill-color);\n",
              "    }\n",
              "    60% {\n",
              "      border-color: transparent;\n",
              "      border-right-color: var(--fill-color);\n",
              "    }\n",
              "    80% {\n",
              "      border-color: transparent;\n",
              "      border-right-color: var(--fill-color);\n",
              "      border-bottom-color: var(--fill-color);\n",
              "    }\n",
              "    90% {\n",
              "      border-color: transparent;\n",
              "      border-bottom-color: var(--fill-color);\n",
              "    }\n",
              "  }\n",
              "</style>\n",
              "\n",
              "      <script>\n",
              "        async function quickchart(key) {\n",
              "          const quickchartButtonEl =\n",
              "            document.querySelector('#' + key + ' button');\n",
              "          quickchartButtonEl.disabled = true;  // To prevent multiple clicks.\n",
              "          quickchartButtonEl.classList.add('colab-df-spinner');\n",
              "          try {\n",
              "            const charts = await google.colab.kernel.invokeFunction(\n",
              "                'suggestCharts', [key], {});\n",
              "          } catch (error) {\n",
              "            console.error('Error during call to suggestCharts:', error);\n",
              "          }\n",
              "          quickchartButtonEl.classList.remove('colab-df-spinner');\n",
              "          quickchartButtonEl.classList.add('colab-df-quickchart-complete');\n",
              "        }\n",
              "        (() => {\n",
              "          let quickchartButtonEl =\n",
              "            document.querySelector('#df-6d2490b3-541e-4cb5-9c8c-1065a07c008e button');\n",
              "          quickchartButtonEl.style.display =\n",
              "            google.colab.kernel.accessAllowed ? 'block' : 'none';\n",
              "        })();\n",
              "      </script>\n",
              "    </div>\n",
              "\n",
              "    </div>\n",
              "  </div>\n"
            ],
            "application/vnd.google.colaboratory.intrinsic+json": {
              "type": "dataframe",
              "summary": "{\n  \"name\": \"df\",\n  \"rows\": 8,\n  \"fields\": [\n    {\n      \"column\": \"User_ID\",\n      \"properties\": {\n        \"dtype\": \"number\",\n        \"std\": 367117.89753373514,\n        \"min\": 1727.5915855306216,\n        \"max\": 1006040.0,\n        \"num_unique_values\": 8,\n        \"samples\": [\n          1003028.8424013031,\n          1003077.0,\n          550068.0\n        ],\n        \"semantic_type\": \"\",\n        \"description\": \"\"\n      }\n    },\n    {\n      \"column\": \"Occupation\",\n      \"properties\": {\n        \"dtype\": \"number\",\n        \"std\": 194475.49735336297,\n        \"min\": 0.0,\n        \"max\": 550068.0,\n        \"num_unique_values\": 8,\n        \"samples\": [\n          8.076706879876669,\n          7.0,\n          550068.0\n        ],\n        \"semantic_type\": \"\",\n        \"description\": \"\"\n      }\n    },\n    {\n      \"column\": \"Marital_Status\",\n      \"properties\": {\n        \"dtype\": \"number\",\n        \"std\": 194478.25991330712,\n        \"min\": 0.0,\n        \"max\": 550068.0,\n        \"num_unique_values\": 5,\n        \"samples\": [\n          0.40965298835780306,\n          1.0,\n          0.4917701263166973\n        ],\n        \"semantic_type\": \"\",\n        \"description\": \"\"\n      }\n    },\n    {\n      \"column\": \"Product_Category\",\n      \"properties\": {\n        \"dtype\": \"number\",\n        \"std\": 194476.16701795225,\n        \"min\": 1.0,\n        \"max\": 550068.0,\n        \"num_unique_values\": 7,\n        \"samples\": [\n          550068.0,\n          5.404270017525106,\n          8.0\n        ],\n        \"semantic_type\": \"\",\n        \"description\": \"\"\n      }\n    },\n    {\n      \"column\": \"Purchase\",\n      \"properties\": {\n        \"dtype\": \"number\",\n        \"std\": 191363.80903912007,\n        \"min\": 12.0,\n        \"max\": 550068.0,\n        \"num_unique_values\": 8,\n        \"samples\": [\n          9263.968712959126,\n          8047.0,\n          550068.0\n        ],\n        \"semantic_type\": \"\",\n        \"description\": \"\"\n      }\n    }\n  ]\n}"
            }
          },
          "metadata": {},
          "execution_count": 8
        }
      ],
      "source": [
        "df.describe()"
      ]
    },
    {
      "cell_type": "code",
      "execution_count": 9,
      "metadata": {
        "colab": {
          "base_uri": "https://localhost:8080/",
          "height": 407
        },
        "id": "-R0y2ZLSMmgg",
        "outputId": "205827bb-7cd6-4ef2-95de-b2823bcca755"
      },
      "outputs": [
        {
          "output_type": "execute_result",
          "data": {
            "text/plain": [
              "User_ID                       0\n",
              "Product_ID                    0\n",
              "Gender                        0\n",
              "Age                           0\n",
              "Occupation                    0\n",
              "City_Category                 0\n",
              "Stay_In_Current_City_Years    0\n",
              "Marital_Status                0\n",
              "Product_Category              0\n",
              "Purchase                      0\n",
              "dtype: int64"
            ],
            "text/html": [
              "<div>\n",
              "<style scoped>\n",
              "    .dataframe tbody tr th:only-of-type {\n",
              "        vertical-align: middle;\n",
              "    }\n",
              "\n",
              "    .dataframe tbody tr th {\n",
              "        vertical-align: top;\n",
              "    }\n",
              "\n",
              "    .dataframe thead th {\n",
              "        text-align: right;\n",
              "    }\n",
              "</style>\n",
              "<table border=\"1\" class=\"dataframe\">\n",
              "  <thead>\n",
              "    <tr style=\"text-align: right;\">\n",
              "      <th></th>\n",
              "      <th>0</th>\n",
              "    </tr>\n",
              "  </thead>\n",
              "  <tbody>\n",
              "    <tr>\n",
              "      <th>User_ID</th>\n",
              "      <td>0</td>\n",
              "    </tr>\n",
              "    <tr>\n",
              "      <th>Product_ID</th>\n",
              "      <td>0</td>\n",
              "    </tr>\n",
              "    <tr>\n",
              "      <th>Gender</th>\n",
              "      <td>0</td>\n",
              "    </tr>\n",
              "    <tr>\n",
              "      <th>Age</th>\n",
              "      <td>0</td>\n",
              "    </tr>\n",
              "    <tr>\n",
              "      <th>Occupation</th>\n",
              "      <td>0</td>\n",
              "    </tr>\n",
              "    <tr>\n",
              "      <th>City_Category</th>\n",
              "      <td>0</td>\n",
              "    </tr>\n",
              "    <tr>\n",
              "      <th>Stay_In_Current_City_Years</th>\n",
              "      <td>0</td>\n",
              "    </tr>\n",
              "    <tr>\n",
              "      <th>Marital_Status</th>\n",
              "      <td>0</td>\n",
              "    </tr>\n",
              "    <tr>\n",
              "      <th>Product_Category</th>\n",
              "      <td>0</td>\n",
              "    </tr>\n",
              "    <tr>\n",
              "      <th>Purchase</th>\n",
              "      <td>0</td>\n",
              "    </tr>\n",
              "  </tbody>\n",
              "</table>\n",
              "</div><br><label><b>dtype:</b> int64</label>"
            ]
          },
          "metadata": {},
          "execution_count": 9
        }
      ],
      "source": [
        "df.isnull().sum()"
      ]
    },
    {
      "cell_type": "markdown",
      "metadata": {
        "id": "DkeT4LJjM-0m"
      },
      "source": [
        "we will find the outliers for continous varaible age,purchase"
      ]
    },
    {
      "cell_type": "code",
      "execution_count": 10,
      "metadata": {
        "id": "A9EJF0_gNHTi"
      },
      "outputs": [],
      "source": [
        "iqr=np.percentile(df['Purchase'], 75)-np.percentile(df['Purchase'], 25)"
      ]
    },
    {
      "cell_type": "code",
      "execution_count": 11,
      "metadata": {
        "colab": {
          "base_uri": "https://localhost:8080/"
        },
        "id": "rT7filqAODJ0",
        "outputId": "cbb6c3a7-0f1e-4a0a-b6ad-554fdb7c30db"
      },
      "outputs": [
        {
          "output_type": "execute_result",
          "data": {
            "text/plain": [
              "2677"
            ]
          },
          "metadata": {},
          "execution_count": 11
        }
      ],
      "source": [
        "upp_limit=np.percentile(df['Purchase'],75)+(1.5*iqr)\n",
        "len(df[df['Purchase']>upp_limit])"
      ]
    },
    {
      "cell_type": "code",
      "execution_count": 12,
      "metadata": {
        "colab": {
          "base_uri": "https://localhost:8080/"
        },
        "id": "kGNESuJ3TodM",
        "outputId": "4fd13d8c-1775-468b-e913-eb49e1806140"
      },
      "outputs": [
        {
          "output_type": "execute_result",
          "data": {
            "text/plain": [
              "0"
            ]
          },
          "metadata": {},
          "execution_count": 12
        }
      ],
      "source": [
        "lower_limit=np.percentile(df['Purchase'],25)-(1.5*iqr)\n",
        "len(df[df['Purchase']<lower_limit])"
      ]
    },
    {
      "cell_type": "code",
      "execution_count": 13,
      "metadata": {
        "colab": {
          "base_uri": "https://localhost:8080/",
          "height": 452
        },
        "id": "NT6um8SGUV-Z",
        "outputId": "7577ae01-69af-495e-9f3e-926124e68926"
      },
      "outputs": [
        {
          "output_type": "execute_result",
          "data": {
            "text/plain": [
              "<Axes: ylabel='Purchase'>"
            ]
          },
          "metadata": {},
          "execution_count": 13
        },
        {
          "output_type": "display_data",
          "data": {
            "text/plain": [
              "<Figure size 640x480 with 1 Axes>"
            ],
            "image/png": "[encoded data removed]"
          },
          "metadata": {}
        }
      ],
      "source": [
        "sns.boxplot(df['Purchase'])"
      ]
    },
    {
      "cell_type": "markdown",
      "metadata": {
        "id": "2TrIP5r6XoIm"
      },
      "source": [
        "to remove outliers we will clip data"
      ]
    },
    {
      "cell_type": "code",
      "execution_count": 14,
      "metadata": {
        "id": "XaIkhkTEW7ew"
      },
      "outputs": [],
      "source": [
        "df['Purchase']=df['Purchase'].clip(lower=np.percentile(df['Purchase'],5),upper=np.percentile(df['Purchase'],95))"
      ]
    },
    {
      "cell_type": "code",
      "execution_count": 15,
      "metadata": {
        "colab": {
          "base_uri": "https://localhost:8080/",
          "height": 450
        },
        "id": "VYzhvG6IYUa3",
        "outputId": "c66a9a98-1919-452c-828c-c6897953fa61"
      },
      "outputs": [
        {
          "output_type": "execute_result",
          "data": {
            "text/plain": [
              "<Axes: ylabel='Purchase'>"
            ]
          },
          "metadata": {},
          "execution_count": 15
        },
        {
          "output_type": "display_data",
          "data": {
            "text/plain": [
              "<Figure size 640x480 with 1 Axes>"
            ],
            "image/png": "[encoded data removed]"
          },
          "metadata": {}
        }
      ],
      "source": [
        "sns.boxplot(df['Purchase'])"
      ]
    },
    {
      "cell_type": "code",
      "execution_count": 16,
      "metadata": {
        "colab": {
          "base_uri": "https://localhost:8080/",
          "height": 486
        },
        "id": "sOQ_ObxhaOOg",
        "outputId": "982677a3-187d-4778-9916-999558451e39"
      },
      "outputs": [
        {
          "output_type": "execute_result",
          "data": {
            "text/plain": [
              "<Axes: xlabel='count', ylabel='Age'>"
            ]
          },
          "metadata": {},
          "execution_count": 16
        },
        {
          "output_type": "display_data",
          "data": {
            "text/plain": [
              "<Figure size 640x480 with 1 Axes>"
            ],
            "image/png": "[encoded data removed]"
          },
          "metadata": {}
        }
      ],
      "source": [
        "sns.countplot(df[\"Age\"])"
      ]
    },
    {
      "cell_type": "markdown",
      "metadata": {
        "id": "nraPCLiit8wM"
      },
      "source": [
        "from 26-35 age people are brought frequently"
      ]
    },
    {
      "cell_type": "code",
      "execution_count": 17,
      "metadata": {
        "colab": {
          "base_uri": "https://localhost:8080/",
          "height": 486
        },
        "id": "1hKoI-4Ks_Yf",
        "outputId": "0dbd2aec-bf5f-424e-cfd3-e0738beb6844"
      },
      "outputs": [
        {
          "output_type": "execute_result",
          "data": {
            "text/plain": [
              "<Axes: xlabel='count', ylabel='Gender'>"
            ]
          },
          "metadata": {},
          "execution_count": 17
        },
        {
          "output_type": "display_data",
          "data": {
            "text/plain": [
              "<Figure size 640x480 with 1 Axes>"
            ],
            "image/png": "[encoded data removed]"
          },
          "metadata": {}
        }
      ],
      "source": [
        "sns.countplot(df['Gender'])"
      ]
    },
    {
      "cell_type": "markdown",
      "metadata": {
        "id": "WGgLQk57uTav"
      },
      "source": [
        "male has more purchases then female"
      ]
    },
    {
      "cell_type": "code",
      "execution_count": 18,
      "metadata": {
        "colab": {
          "base_uri": "https://localhost:8080/",
          "height": 313
        },
        "id": "sPXOD0YXuaPD",
        "outputId": "a11e0c6c-6db2-421c-9e15-f133020dadcf"
      },
      "outputs": [
        {
          "output_type": "execute_result",
          "data": {
            "text/plain": [
              "Gender      F       M\n",
              "Age                  \n",
              "0-17     5083   10019\n",
              "18-25   24628   75032\n",
              "26-35   50752  168835\n",
              "36-45   27170   82843\n",
              "46-50   13199   32502\n",
              "51-55    9894   28607\n",
              "55+      5083   16421"
            ],
            "text/html": [
              "\n",
              "  <div id=\"df-6e4673ed-6876-48e3-9098-fa8bb34151d1\" class=\"colab-df-container\">\n",
              "    <div>\n",
              "<style scoped>\n",
              "    .dataframe tbody tr th:only-of-type {\n",
              "        vertical-align: middle;\n",
              "    }\n",
              "\n",
              "    .dataframe tbody tr th {\n",
              "        vertical-align: top;\n",
              "    }\n",
              "\n",
              "    .dataframe thead th {\n",
              "        text-align: right;\n",
              "    }\n",
              "</style>\n",
              "<table border=\"1\" class=\"dataframe\">\n",
              "  <thead>\n",
              "    <tr style=\"text-align: right;\">\n",
              "      <th>Gender</th>\n",
              "      <th>F</th>\n",
              "      <th>M</th>\n",
              "    </tr>\n",
              "    <tr>\n",
              "      <th>Age</th>\n",
              "      <th></th>\n",
              "      <th></th>\n",
              "    </tr>\n",
              "  </thead>\n",
              "  <tbody>\n",
              "    <tr>\n",
              "      <th>0-17</th>\n",
              "      <td>5083</td>\n",
              "      <td>10019</td>\n",
              "    </tr>\n",
              "    <tr>\n",
              "      <th>18-25</th>\n",
              "      <td>24628</td>\n",
              "      <td>75032</td>\n",
              "    </tr>\n",
              "    <tr>\n",
              "      <th>26-35</th>\n",
              "      <td>50752</td>\n",
              "      <td>168835</td>\n",
              "    </tr>\n",
              "    <tr>\n",
              "      <th>36-45</th>\n",
              "      <td>27170</td>\n",
              "      <td>82843</td>\n",
              "    </tr>\n",
              "    <tr>\n",
              "      <th>46-50</th>\n",
              "      <td>13199</td>\n",
              "      <td>32502</td>\n",
              "    </tr>\n",
              "    <tr>\n",
              "      <th>51-55</th>\n",
              "      <td>9894</td>\n",
              "      <td>28607</td>\n",
              "    </tr>\n",
              "    <tr>\n",
              "      <th>55+</th>\n",
              "      <td>5083</td>\n",
              "      <td>16421</td>\n",
              "    </tr>\n",
              "  </tbody>\n",
              "</table>\n",
              "</div>\n",
              "    <div class=\"colab-df-buttons\">\n",
              "\n",
              "  <div class=\"colab-df-container\">\n",
              "    <button class=\"colab-df-convert\" onclick=\"convertToInteractive('df-6e4673ed-6876-48e3-9098-fa8bb34151d1')\"\n",
              "            title=\"Convert this dataframe to an interactive table.\"\n",
              "            style=\"display:none;\">\n",
              "\n",
              "  <svg xmlns=\"http://www.w3.org/2000/svg\" height=\"24px\" viewBox=\"0 -960 960 960\">\n",
              "    <path d=\"M120-120v-720h720v720H120Zm60-500h600v-160H180v160Zm220 220h160v-160H400v160Zm0 220h160v-160H400v160ZM180-400h160v-160H180v160Zm440 0h160v-160H620v160ZM180-180h160v-160H180v160Zm440 0h160v-160H620v160Z\"/>\n",
              "  </svg>\n",
              "    </button>\n",
              "\n",
              "  <style>\n",
              "    .colab-df-container {\n",
              "      display:flex;\n",
              "      gap: 12px;\n",
              "    }\n",
              "\n",
              "    .colab-df-convert {\n",
              "      background-color: #E8F0FE;\n",
              "      border: none;\n",
              "      border-radius: 50%;\n",
              "      cursor: pointer;\n",
              "      display: none;\n",
              "      fill: #1967D2;\n",
              "      height: 32px;\n",
              "      padding: 0 0 0 0;\n",
              "      width: 32px;\n",
              "    }\n",
              "\n",
              "    .colab-df-convert:hover {\n",
              "      background-color: #E2EBFA;\n",
              "      box-shadow: 0px 1px 2px rgba(60, 64, 67, 0.3), 0px 1px 3px 1px rgba(60, 64, 67, 0.15);\n",
              "      fill: #174EA6;\n",
              "    }\n",
              "\n",
              "    .colab-df-buttons div {\n",
              "      margin-bottom: 4px;\n",
              "    }\n",
              "\n",
              "    [theme=dark] .colab-df-convert {\n",
              "      background-color: #3B4455;\n",
              "      fill: #D2E3FC;\n",
              "    }\n",
              "\n",
              "    [theme=dark] .colab-df-convert:hover {\n",
              "      background-color: #434B5C;\n",
              "      box-shadow: 0px 1px 3px 1px rgba(0, 0, 0, 0.15);\n",
              "      filter: drop-shadow(0px 1px 2px rgba(0, 0, 0, 0.3));\n",
              "      fill: #FFFFFF;\n",
              "    }\n",
              "  </style>\n",
              "\n",
              "    <script>\n",
              "      const buttonEl =\n",
              "        document.querySelector('#df-6e4673ed-6876-48e3-9098-fa8bb34151d1 button.colab-df-convert');\n",
              "      buttonEl.style.display =\n",
              "        google.colab.kernel.accessAllowed ? 'block' : 'none';\n",
              "\n",
              "      async function convertToInteractive(key) {\n",
              "        const element = document.querySelector('#df-6e4673ed-6876-48e3-9098-fa8bb34151d1');\n",
              "        const dataTable =\n",
              "          await google.colab.kernel.invokeFunction('convertToInteractive',\n",
              "                                                    [key], {});\n",
              "        if (!dataTable) return;\n",
              "\n",
              "        const docLinkHtml = 'Like what you see? Visit the ' +\n",
              "          '<a target=\"_blank\" href=https://colab.research.google.com/notebooks/data_table.ipynb>data table notebook</a>'\n",
              "          + ' to learn more about interactive tables.';\n",
              "        element.innerHTML = '';\n",
              "        dataTable['output_type'] = 'display_data';\n",
              "        await google.colab.output.renderOutput(dataTable, element);\n",
              "        const docLink = document.createElement('div');\n",
              "        docLink.innerHTML = docLinkHtml;\n",
              "        element.appendChild(docLink);\n",
              "      }\n",
              "    </script>\n",
              "  </div>\n",
              "\n",
              "\n",
              "    <div id=\"df-e7d52f7c-d17a-4477-b3d7-1de8d808ecfb\">\n",
              "      <button class=\"colab-df-quickchart\" onclick=\"quickchart('df-e7d52f7c-d17a-4477-b3d7-1de8d808ecfb')\"\n",
              "                title=\"Suggest charts\"\n",
              "                style=\"display:none;\">\n",
              "\n",
              "<svg xmlns=\"http://www.w3.org/2000/svg\" height=\"24px\"viewBox=\"0 0 24 24\"\n",
              "     width=\"24px\">\n",
              "    <g>\n",
              "        <path d=\"M19 3H5c-1.1 0-2 .9-2 2v14c0 1.1.9 2 2 2h14c1.1 0 2-.9 2-2V5c0-1.1-.9-2-2-2zM9 17H7v-7h2v7zm4 0h-2V7h2v10zm4 0h-2v-4h2v4z\"/>\n",
              "    </g>\n",
              "</svg>\n",
              "      </button>\n",
              "\n",
              "<style>\n",
              "  .colab-df-quickchart {\n",
              "      --bg-color: #E8F0FE;\n",
              "      --fill-color: #1967D2;\n",
              "      --hover-bg-color: #E2EBFA;\n",
              "      --hover-fill-color: #174EA6;\n",
              "      --disabled-fill-color: #AAA;\n",
              "      --disabled-bg-color: #DDD;\n",
              "  }\n",
              "\n",
              "  [theme=dark] .colab-df-quickchart {\n",
              "      --bg-color: #3B4455;\n",
              "      --fill-color: #D2E3FC;\n",
              "      --hover-bg-color: #434B5C;\n",
              "      --hover-fill-color: #FFFFFF;\n",
              "      --disabled-bg-color: #3B4455;\n",
              "      --disabled-fill-color: #666;\n",
              "  }\n",
              "\n",
              "  .colab-df-quickchart {\n",
              "    background-color: var(--bg-color);\n",
              "    border: none;\n",
              "    border-radius: 50%;\n",
              "    cursor: pointer;\n",
              "    display: none;\n",
              "    fill: var(--fill-color);\n",
              "    height: 32px;\n",
              "    padding: 0;\n",
              "    width: 32px;\n",
              "  }\n",
              "\n",
              "  .colab-df-quickchart:hover {\n",
              "    background-color: var(--hover-bg-color);\n",
              "    box-shadow: 0 1px 2px rgba(60, 64, 67, 0.3), 0 1px 3px 1px rgba(60, 64, 67, 0.15);\n",
              "    fill: var(--button-hover-fill-color);\n",
              "  }\n",
              "\n",
              "  .colab-df-quickchart-complete:disabled,\n",
              "  .colab-df-quickchart-complete:disabled:hover {\n",
              "    background-color: var(--disabled-bg-color);\n",
              "    fill: var(--disabled-fill-color);\n",
              "    box-shadow: none;\n",
              "  }\n",
              "\n",
              "  .colab-df-spinner {\n",
              "    border: 2px solid var(--fill-color);\n",
              "    border-color: transparent;\n",
              "    border-bottom-color: var(--fill-color);\n",
              "    animation:\n",
              "      spin 1s steps(1) infinite;\n",
              "  }\n",
              "\n",
              "  @keyframes spin {\n",
              "    0% {\n",
              "      border-color: transparent;\n",
              "      border-bottom-color: var(--fill-color);\n",
              "      border-left-color: var(--fill-color);\n",
              "    }\n",
              "    20% {\n",
              "      border-color: transparent;\n",
              "      border-left-color: var(--fill-color);\n",
              "      border-top-color: var(--fill-color);\n",
              "    }\n",
              "    30% {\n",
              "      border-color: transparent;\n",
              "      border-left-color: var(--fill-color);\n",
              "      border-top-color: var(--fill-color);\n",
              "      border-right-color: var(--fill-color);\n",
              "    }\n",
              "    40% {\n",
              "      border-color: transparent;\n",
              "      border-right-color: var(--fill-color);\n",
              "      border-top-color: var(--fill-color);\n",
              "    }\n",
              "    60% {\n",
              "      border-color: transparent;\n",
              "      border-right-color: var(--fill-color);\n",
              "    }\n",
              "    80% {\n",
              "      border-color: transparent;\n",
              "      border-right-color: var(--fill-color);\n",
              "      border-bottom-color: var(--fill-color);\n",
              "    }\n",
              "    90% {\n",
              "      border-color: transparent;\n",
              "      border-bottom-color: var(--fill-color);\n",
              "    }\n",
              "  }\n",
              "</style>\n",
              "\n",
              "      <script>\n",
              "        async function quickchart(key) {\n",
              "          const quickchartButtonEl =\n",
              "            document.querySelector('#' + key + ' button');\n",
              "          quickchartButtonEl.disabled = true;  // To prevent multiple clicks.\n",
              "          quickchartButtonEl.classList.add('colab-df-spinner');\n",
              "          try {\n",
              "            const charts = await google.colab.kernel.invokeFunction(\n",
              "                'suggestCharts', [key], {});\n",
              "          } catch (error) {\n",
              "            console.error('Error during call to suggestCharts:', error);\n",
              "          }\n",
              "          quickchartButtonEl.classList.remove('colab-df-spinner');\n",
              "          quickchartButtonEl.classList.add('colab-df-quickchart-complete');\n",
              "        }\n",
              "        (() => {\n",
              "          let quickchartButtonEl =\n",
              "            document.querySelector('#df-e7d52f7c-d17a-4477-b3d7-1de8d808ecfb button');\n",
              "          quickchartButtonEl.style.display =\n",
              "            google.colab.kernel.accessAllowed ? 'block' : 'none';\n",
              "        })();\n",
              "      </script>\n",
              "    </div>\n",
              "\n",
              "  <div id=\"id_da45897f-a88e-424d-846a-39cf46c66ccf\">\n",
              "    <style>\n",
              "      .colab-df-generate {\n",
              "        background-color: #E8F0FE;\n",
              "        border: none;\n",
              "        border-radius: 50%;\n",
              "        cursor: pointer;\n",
              "        display: none;\n",
              "        fill: #1967D2;\n",
              "        height: 32px;\n",
              "        padding: 0 0 0 0;\n",
              "        width: 32px;\n",
              "      }\n",
              "\n",
              "      .colab-df-generate:hover {\n",
              "        background-color: #E2EBFA;\n",
              "        box-shadow: 0px 1px 2px rgba(60, 64, 67, 0.3), 0px 1px 3px 1px rgba(60, 64, 67, 0.15);\n",
              "        fill: #174EA6;\n",
              "      }\n",
              "\n",
              "      [theme=dark] .colab-df-generate {\n",
              "        background-color: #3B4455;\n",
              "        fill: #D2E3FC;\n",
              "      }\n",
              "\n",
              "      [theme=dark] .colab-df-generate:hover {\n",
              "        background-color: #434B5C;\n",
              "        box-shadow: 0px 1px 3px 1px rgba(0, 0, 0, 0.15);\n",
              "        filter: drop-shadow(0px 1px 2px rgba(0, 0, 0, 0.3));\n",
              "        fill: #FFFFFF;\n",
              "      }\n",
              "    </style>\n",
              "    <button class=\"colab-df-generate\" onclick=\"generateWithVariable('g1')\"\n",
              "            title=\"Generate code using this dataframe.\"\n",
              "            style=\"display:none;\">\n",
              "\n",
              "  <svg xmlns=\"http://www.w3.org/2000/svg\" height=\"24px\"viewBox=\"0 0 24 24\"\n",
              "       width=\"24px\">\n",
              "    <path d=\"M7,19H8.4L18.45,9,17,7.55,7,17.6ZM5,21V16.75L18.45,3.32a2,2,0,0,1,2.83,0l1.4,1.43a1.91,1.91,0,0,1,.58,1.4,1.91,1.91,0,0,1-.58,1.4L9.25,21ZM18.45,9,17,7.55Zm-12,3A5.31,5.31,0,0,0,4.9,8.1,5.31,5.31,0,0,0,1,6.5,5.31,5.31,0,0,0,4.9,4.9,5.31,5.31,0,0,0,6.5,1,5.31,5.31,0,0,0,8.1,4.9,5.31,5.31,0,0,0,12,6.5,5.46,5.46,0,0,0,6.5,12Z\"/>\n",
              "  </svg>\n",
              "    </button>\n",
              "    <script>\n",
              "      (() => {\n",
              "      const buttonEl =\n",
              "        document.querySelector('#id_da45897f-a88e-424d-846a-39cf46c66ccf button.colab-df-generate');\n",
              "      buttonEl.style.display =\n",
              "        google.colab.kernel.accessAllowed ? 'block' : 'none';\n",
              "\n",
              "      buttonEl.onclick = () => {\n",
              "        google.colab.notebook.generateWithVariable('g1');\n",
              "      }\n",
              "      })();\n",
              "    </script>\n",
              "  </div>\n",
              "\n",
              "    </div>\n",
              "  </div>\n"
            ],
            "application/vnd.google.colaboratory.intrinsic+json": {
              "type": "dataframe",
              "variable_name": "g1",
              "summary": "{\n  \"name\": \"g1\",\n  \"rows\": 7,\n  \"fields\": [\n    {\n      \"column\": \"Age\",\n      \"properties\": {\n        \"dtype\": \"string\",\n        \"num_unique_values\": 7,\n        \"samples\": [\n          \"0-17\",\n          \"18-25\",\n          \"51-55\"\n        ],\n        \"semantic_type\": \"\",\n        \"description\": \"\"\n      }\n    },\n    {\n      \"column\": \"F\",\n      \"properties\": {\n        \"dtype\": \"number\",\n        \"std\": 16377,\n        \"min\": 5083,\n        \"max\": 50752,\n        \"num_unique_values\": 6,\n        \"samples\": [\n          5083,\n          24628,\n          9894\n        ],\n        \"semantic_type\": \"\",\n        \"description\": \"\"\n      }\n    },\n    {\n      \"column\": \"M\",\n      \"properties\": {\n        \"dtype\": \"number\",\n        \"std\": 55867,\n        \"min\": 10019,\n        \"max\": 168835,\n        \"num_unique_values\": 7,\n        \"samples\": [\n          10019,\n          75032,\n          28607\n        ],\n        \"semantic_type\": \"\",\n        \"description\": \"\"\n      }\n    }\n  ]\n}"
            }
          },
          "metadata": {},
          "execution_count": 18
        }
      ],
      "source": [
        "g1=pd.crosstab(df['Age'],df['Gender'])\n",
        "g1"
      ]
    },
    {
      "cell_type": "code",
      "execution_count": 19,
      "metadata": {
        "colab": {
          "base_uri": "https://localhost:8080/",
          "height": 486
        },
        "id": "i5wqIFE7vg7y",
        "outputId": "b4ff4989-be34-4024-f990-b937ef073824"
      },
      "outputs": [
        {
          "output_type": "execute_result",
          "data": {
            "text/plain": [
              "<Axes: xlabel='Gender', ylabel='Age'>"
            ]
          },
          "metadata": {},
          "execution_count": 19
        },
        {
          "output_type": "display_data",
          "data": {
            "text/plain": [
              "<Figure size 640x480 with 2 Axes>"
            ],
            "image/png": "[encoded data removed]"
          },
          "metadata": {}
        }
      ],
      "source": [
        "sns.heatmap(g1,annot=True,fmt='d',cmap='Blues')"
      ]
    },
    {
      "cell_type": "markdown",
      "metadata": {
        "id": "F-69cJTIwBou"
      },
      "source": [
        "we can alos do chisquare test"
      ]
    },
    {
      "cell_type": "code",
      "execution_count": 20,
      "metadata": {
        "id": "sEFo4bW7wGFS"
      },
      "outputs": [],
      "source": [
        "from scipy.stats import chi2_contingency"
      ]
    },
    {
      "cell_type": "code",
      "execution_count": 21,
      "metadata": {
        "colab": {
          "base_uri": "https://localhost:8080/"
        },
        "id": "cz_uQgcYwz0t",
        "outputId": "be606967-be5c-4b05-a18f-85a61d78b9ff"
      },
      "outputs": [
        {
          "output_type": "execute_result",
          "data": {
            "text/plain": [
              "Chi2ContingencyResult(statistic=np.float64(1412.7156576195036), pvalue=np.float64(4.2750569064914816e-302), dof=6, expected_freq=array([[  3728.60722311,  11373.39277689],\n",
              "       [ 24605.54865944,  75054.45134056],\n",
              "       [ 54214.9168521 , 165372.0831479 ],\n",
              "       [ 27161.65186304,  82851.34813696],\n",
              "       [ 11283.34516642,  34417.65483358],\n",
              "       [  9505.70167507,  28995.29832493],\n",
              "       [  5309.22856083,  16194.77143917]]))"
            ]
          },
          "metadata": {},
          "execution_count": 21
        }
      ],
      "source": [
        "chi2_contingency(g1)"
      ]
    },
    {
      "cell_type": "code",
      "execution_count": 22,
      "metadata": {
        "colab": {
          "base_uri": "https://localhost:8080/"
        },
        "id": "koTkGCzOw9Uo",
        "outputId": "d1b75189-90c9-4e49-9c13-333861f7982a"
      },
      "outputs": [
        {
          "output_type": "stream",
          "name": "stdout",
          "text": [
            "reject null\n"
          ]
        }
      ],
      "source": [
        "if 0.05<4.2750569064914816e-302:\n",
        "  print('reject alternate')\n",
        "else:\n",
        "  print('reject null')"
      ]
    },
    {
      "cell_type": "markdown",
      "metadata": {
        "id": "-9WJvv83xlU-"
      },
      "source": [
        "so we can conlucde age,gender are dependet"
      ]
    },
    {
      "cell_type": "code",
      "execution_count": 23,
      "metadata": {
        "colab": {
          "base_uri": "https://localhost:8080/",
          "height": 486
        },
        "id": "LXkqHe0hxu2z",
        "outputId": "561f1c84-44ff-43c1-a4a5-f878d06a9e25"
      },
      "outputs": [
        {
          "output_type": "execute_result",
          "data": {
            "text/plain": [
              "<Axes: xlabel='Age', ylabel='count'>"
            ]
          },
          "metadata": {},
          "execution_count": 23
        },
        {
          "output_type": "display_data",
          "data": {
            "text/plain": [
              "<Figure size 640x480 with 1 Axes>"
            ],
            "image/png": "[encoded data removed]"
          },
          "metadata": {}
        }
      ],
      "source": [
        "sns.countplot(data=df,x='Age',hue='Marital_Status')"
      ]
    },
    {
      "cell_type": "code",
      "execution_count": 24,
      "metadata": {
        "colab": {
          "base_uri": "https://localhost:8080/",
          "height": 313
        },
        "id": "OAOhph6myioV",
        "outputId": "1c5dbe62-a921-45b1-f774-5beafe5d24a6"
      },
      "outputs": [
        {
          "output_type": "execute_result",
          "data": {
            "text/plain": [
              "Marital_Status       0      1\n",
              "Age                          \n",
              "0-17             15102      0\n",
              "18-25            78544  21116\n",
              "26-35           133296  86291\n",
              "36-45            66377  43636\n",
              "46-50            12690  33011\n",
              "51-55            10839  27662\n",
              "55+               7883  13621"
            ],
            "text/html": [
              "\n",
              "  <div id=\"df-1e9cd0db-9968-4671-91dd-6053750c3340\" class=\"colab-df-container\">\n",
              "    <div>\n",
              "<style scoped>\n",
              "    .dataframe tbody tr th:only-of-type {\n",
              "        vertical-align: middle;\n",
              "    }\n",
              "\n",
              "    .dataframe tbody tr th {\n",
              "        vertical-align: top;\n",
              "    }\n",
              "\n",
              "    .dataframe thead th {\n",
              "        text-align: right;\n",
              "    }\n",
              "</style>\n",
              "<table border=\"1\" class=\"dataframe\">\n",
              "  <thead>\n",
              "    <tr style=\"text-align: right;\">\n",
              "      <th>Marital_Status</th>\n",
              "      <th>0</th>\n",
              "      <th>1</th>\n",
              "    </tr>\n",
              "    <tr>\n",
              "      <th>Age</th>\n",
              "      <th></th>\n",
              "      <th></th>\n",
              "    </tr>\n",
              "  </thead>\n",
              "  <tbody>\n",
              "    <tr>\n",
              "      <th>0-17</th>\n",
              "      <td>15102</td>\n",
              "      <td>0</td>\n",
              "    </tr>\n",
              "    <tr>\n",
              "      <th>18-25</th>\n",
              "      <td>78544</td>\n",
              "      <td>21116</td>\n",
              "    </tr>\n",
              "    <tr>\n",
              "      <th>26-35</th>\n",
              "      <td>133296</td>\n",
              "      <td>86291</td>\n",
              "    </tr>\n",
              "    <tr>\n",
              "      <th>36-45</th>\n",
              "      <td>66377</td>\n",
              "      <td>43636</td>\n",
              "    </tr>\n",
              "    <tr>\n",
              "      <th>46-50</th>\n",
              "      <td>12690</td>\n",
              "      <td>33011</td>\n",
              "    </tr>\n",
              "    <tr>\n",
              "      <th>51-55</th>\n",
              "      <td>10839</td>\n",
              "      <td>27662</td>\n",
              "    </tr>\n",
              "    <tr>\n",
              "      <th>55+</th>\n",
              "      <td>7883</td>\n",
              "      <td>13621</td>\n",
              "    </tr>\n",
              "  </tbody>\n",
              "</table>\n",
              "</div>\n",
              "    <div class=\"colab-df-buttons\">\n",
              "\n",
              "  <div class=\"colab-df-container\">\n",
              "    <button class=\"colab-df-convert\" onclick=\"convertToInteractive('df-1e9cd0db-9968-4671-91dd-6053750c3340')\"\n",
              "            title=\"Convert this dataframe to an interactive table.\"\n",
              "            style=\"display:none;\">\n",
              "\n",
              "  <svg xmlns=\"http://www.w3.org/2000/svg\" height=\"24px\" viewBox=\"0 -960 960 960\">\n",
              "    <path d=\"M120-120v-720h720v720H120Zm60-500h600v-160H180v160Zm220 220h160v-160H400v160Zm0 220h160v-160H400v160ZM180-400h160v-160H180v160Zm440 0h160v-160H620v160ZM180-180h160v-160H180v160Zm440 0h160v-160H620v160Z\"/>\n",
              "  </svg>\n",
              "    </button>\n",
              "\n",
              "  <style>\n",
              "    .colab-df-container {\n",
              "      display:flex;\n",
              "      gap: 12px;\n",
              "    }\n",
              "\n",
              "    .colab-df-convert {\n",
              "      background-color: #E8F0FE;\n",
              "      border: none;\n",
              "      border-radius: 50%;\n",
              "      cursor: pointer;\n",
              "      display: none;\n",
              "      fill: #1967D2;\n",
              "      height: 32px;\n",
              "      padding: 0 0 0 0;\n",
              "      width: 32px;\n",
              "    }\n",
              "\n",
              "    .colab-df-convert:hover {\n",
              "      background-color: #E2EBFA;\n",
              "      box-shadow: 0px 1px 2px rgba(60, 64, 67, 0.3), 0px 1px 3px 1px rgba(60, 64, 67, 0.15);\n",
              "      fill: #174EA6;\n",
              "    }\n",
              "\n",
              "    .colab-df-buttons div {\n",
              "      margin-bottom: 4px;\n",
              "    }\n",
              "\n",
              "    [theme=dark] .colab-df-convert {\n",
              "      background-color: #3B4455;\n",
              "      fill: #D2E3FC;\n",
              "    }\n",
              "\n",
              "    [theme=dark] .colab-df-convert:hover {\n",
              "      background-color: #434B5C;\n",
              "      box-shadow: 0px 1px 3px 1px rgba(0, 0, 0, 0.15);\n",
              "      filter: drop-shadow(0px 1px 2px rgba(0, 0, 0, 0.3));\n",
              "      fill: #FFFFFF;\n",
              "    }\n",
              "  </style>\n",
              "\n",
              "    <script>\n",
              "      const buttonEl =\n",
              "        document.querySelector('#df-1e9cd0db-9968-4671-91dd-6053750c3340 button.colab-df-convert');\n",
              "      buttonEl.style.display =\n",
              "        google.colab.kernel.accessAllowed ? 'block' : 'none';\n",
              "\n",
              "      async function convertToInteractive(key) {\n",
              "        const element = document.querySelector('#df-1e9cd0db-9968-4671-91dd-6053750c3340');\n",
              "        const dataTable =\n",
              "          await google.colab.kernel.invokeFunction('convertToInteractive',\n",
              "                                                    [key], {});\n",
              "        if (!dataTable) return;\n",
              "\n",
              "        const docLinkHtml = 'Like what you see? Visit the ' +\n",
              "          '<a target=\"_blank\" href=https://colab.research.google.com/notebooks/data_table.ipynb>data table notebook</a>'\n",
              "          + ' to learn more about interactive tables.';\n",
              "        element.innerHTML = '';\n",
              "        dataTable['output_type'] = 'display_data';\n",
              "        await google.colab.output.renderOutput(dataTable, element);\n",
              "        const docLink = document.createElement('div');\n",
              "        docLink.innerHTML = docLinkHtml;\n",
              "        element.appendChild(docLink);\n",
              "      }\n",
              "    </script>\n",
              "  </div>\n",
              "\n",
              "\n",
              "    <div id=\"df-22099b86-1534-4142-807f-ccbaecb65eb9\">\n",
              "      <button class=\"colab-df-quickchart\" onclick=\"quickchart('df-22099b86-1534-4142-807f-ccbaecb65eb9')\"\n",
              "                title=\"Suggest charts\"\n",
              "                style=\"display:none;\">\n",
              "\n",
              "<svg xmlns=\"http://www.w3.org/2000/svg\" height=\"24px\"viewBox=\"0 0 24 24\"\n",
              "     width=\"24px\">\n",
              "    <g>\n",
              "        <path d=\"M19 3H5c-1.1 0-2 .9-2 2v14c0 1.1.9 2 2 2h14c1.1 0 2-.9 2-2V5c0-1.1-.9-2-2-2zM9 17H7v-7h2v7zm4 0h-2V7h2v10zm4 0h-2v-4h2v4z\"/>\n",
              "    </g>\n",
              "</svg>\n",
              "      </button>\n",
              "\n",
              "<style>\n",
              "  .colab-df-quickchart {\n",
              "      --bg-color: #E8F0FE;\n",
              "      --fill-color: #1967D2;\n",
              "      --hover-bg-color: #E2EBFA;\n",
              "      --hover-fill-color: #174EA6;\n",
              "      --disabled-fill-color: #AAA;\n",
              "      --disabled-bg-color: #DDD;\n",
              "  }\n",
              "\n",
              "  [theme=dark] .colab-df-quickchart {\n",
              "      --bg-color: #3B4455;\n",
              "      --fill-color: #D2E3FC;\n",
              "      --hover-bg-color: #434B5C;\n",
              "      --hover-fill-color: #FFFFFF;\n",
              "      --disabled-bg-color: #3B4455;\n",
              "      --disabled-fill-color: #666;\n",
              "  }\n",
              "\n",
              "  .colab-df-quickchart {\n",
              "    background-color: var(--bg-color);\n",
              "    border: none;\n",
              "    border-radius: 50%;\n",
              "    cursor: pointer;\n",
              "    display: none;\n",
              "    fill: var(--fill-color);\n",
              "    height: 32px;\n",
              "    padding: 0;\n",
              "    width: 32px;\n",
              "  }\n",
              "\n",
              "  .colab-df-quickchart:hover {\n",
              "    background-color: var(--hover-bg-color);\n",
              "    box-shadow: 0 1px 2px rgba(60, 64, 67, 0.3), 0 1px 3px 1px rgba(60, 64, 67, 0.15);\n",
              "    fill: var(--button-hover-fill-color);\n",
              "  }\n",
              "\n",
              "  .colab-df-quickchart-complete:disabled,\n",
              "  .colab-df-quickchart-complete:disabled:hover {\n",
              "    background-color: var(--disabled-bg-color);\n",
              "    fill: var(--disabled-fill-color);\n",
              "    box-shadow: none;\n",
              "  }\n",
              "\n",
              "  .colab-df-spinner {\n",
              "    border: 2px solid var(--fill-color);\n",
              "    border-color: transparent;\n",
              "    border-bottom-color: var(--fill-color);\n",
              "    animation:\n",
              "      spin 1s steps(1) infinite;\n",
              "  }\n",
              "\n",
              "  @keyframes spin {\n",
              "    0% {\n",
              "      border-color: transparent;\n",
              "      border-bottom-color: var(--fill-color);\n",
              "      border-left-color: var(--fill-color);\n",
              "    }\n",
              "    20% {\n",
              "      border-color: transparent;\n",
              "      border-left-color: var(--fill-color);\n",
              "      border-top-color: var(--fill-color);\n",
              "    }\n",
              "    30% {\n",
              "      border-color: transparent;\n",
              "      border-left-color: var(--fill-color);\n",
              "      border-top-color: var(--fill-color);\n",
              "      border-right-color: var(--fill-color);\n",
              "    }\n",
              "    40% {\n",
              "      border-color: transparent;\n",
              "      border-right-color: var(--fill-color);\n",
              "      border-top-color: var(--fill-color);\n",
              "    }\n",
              "    60% {\n",
              "      border-color: transparent;\n",
              "      border-right-color: var(--fill-color);\n",
              "    }\n",
              "    80% {\n",
              "      border-color: transparent;\n",
              "      border-right-color: var(--fill-color);\n",
              "      border-bottom-color: var(--fill-color);\n",
              "    }\n",
              "    90% {\n",
              "      border-color: transparent;\n",
              "      border-bottom-color: var(--fill-color);\n",
              "    }\n",
              "  }\n",
              "</style>\n",
              "\n",
              "      <script>\n",
              "        async function quickchart(key) {\n",
              "          const quickchartButtonEl =\n",
              "            document.querySelector('#' + key + ' button');\n",
              "          quickchartButtonEl.disabled = true;  // To prevent multiple clicks.\n",
              "          quickchartButtonEl.classList.add('colab-df-spinner');\n",
              "          try {\n",
              "            const charts = await google.colab.kernel.invokeFunction(\n",
              "                'suggestCharts', [key], {});\n",
              "          } catch (error) {\n",
              "            console.error('Error during call to suggestCharts:', error);\n",
              "          }\n",
              "          quickchartButtonEl.classList.remove('colab-df-spinner');\n",
              "          quickchartButtonEl.classList.add('colab-df-quickchart-complete');\n",
              "        }\n",
              "        (() => {\n",
              "          let quickchartButtonEl =\n",
              "            document.querySelector('#df-22099b86-1534-4142-807f-ccbaecb65eb9 button');\n",
              "          quickchartButtonEl.style.display =\n",
              "            google.colab.kernel.accessAllowed ? 'block' : 'none';\n",
              "        })();\n",
              "      </script>\n",
              "    </div>\n",
              "\n",
              "  <div id=\"id_eb10bcca-24fe-4cf4-8d69-372ffe92cfd3\">\n",
              "    <style>\n",
              "      .colab-df-generate {\n",
              "        background-color: #E8F0FE;\n",
              "        border: none;\n",
              "        border-radius: 50%;\n",
              "        cursor: pointer;\n",
              "        display: none;\n",
              "        fill: #1967D2;\n",
              "        height: 32px;\n",
              "        padding: 0 0 0 0;\n",
              "        width: 32px;\n",
              "      }\n",
              "\n",
              "      .colab-df-generate:hover {\n",
              "        background-color: #E2EBFA;\n",
              "        box-shadow: 0px 1px 2px rgba(60, 64, 67, 0.3), 0px 1px 3px 1px rgba(60, 64, 67, 0.15);\n",
              "        fill: #174EA6;\n",
              "      }\n",
              "\n",
              "      [theme=dark] .colab-df-generate {\n",
              "        background-color: #3B4455;\n",
              "        fill: #D2E3FC;\n",
              "      }\n",
              "\n",
              "      [theme=dark] .colab-df-generate:hover {\n",
              "        background-color: #434B5C;\n",
              "        box-shadow: 0px 1px 3px 1px rgba(0, 0, 0, 0.15);\n",
              "        filter: drop-shadow(0px 1px 2px rgba(0, 0, 0, 0.3));\n",
              "        fill: #FFFFFF;\n",
              "      }\n",
              "    </style>\n",
              "    <button class=\"colab-df-generate\" onclick=\"generateWithVariable('g1')\"\n",
              "            title=\"Generate code using this dataframe.\"\n",
              "            style=\"display:none;\">\n",
              "\n",
              "  <svg xmlns=\"http://www.w3.org/2000/svg\" height=\"24px\"viewBox=\"0 0 24 24\"\n",
              "       width=\"24px\">\n",
              "    <path d=\"M7,19H8.4L18.45,9,17,7.55,7,17.6ZM5,21V16.75L18.45,3.32a2,2,0,0,1,2.83,0l1.4,1.43a1.91,1.91,0,0,1,.58,1.4,1.91,1.91,0,0,1-.58,1.4L9.25,21ZM18.45,9,17,7.55Zm-12,3A5.31,5.31,0,0,0,4.9,8.1,5.31,5.31,0,0,0,1,6.5,5.31,5.31,0,0,0,4.9,4.9,5.31,5.31,0,0,0,6.5,1,5.31,5.31,0,0,0,8.1,4.9,5.31,5.31,0,0,0,12,6.5,5.46,5.46,0,0,0,6.5,12Z\"/>\n",
              "  </svg>\n",
              "    </button>\n",
              "    <script>\n",
              "      (() => {\n",
              "      const buttonEl =\n",
              "        document.querySelector('#id_eb10bcca-24fe-4cf4-8d69-372ffe92cfd3 button.colab-df-generate');\n",
              "      buttonEl.style.display =\n",
              "        google.colab.kernel.accessAllowed ? 'block' : 'none';\n",
              "\n",
              "      buttonEl.onclick = () => {\n",
              "        google.colab.notebook.generateWithVariable('g1');\n",
              "      }\n",
              "      })();\n",
              "    </script>\n",
              "  </div>\n",
              "\n",
              "    </div>\n",
              "  </div>\n"
            ],
            "application/vnd.google.colaboratory.intrinsic+json": {
              "type": "dataframe",
              "variable_name": "g1",
              "summary": "{\n  \"name\": \"g1\",\n  \"rows\": 7,\n  \"fields\": [\n    {\n      \"column\": \"Age\",\n      \"properties\": {\n        \"dtype\": \"string\",\n        \"num_unique_values\": 7,\n        \"samples\": [\n          \"0-17\",\n          \"18-25\",\n          \"51-55\"\n        ],\n        \"semantic_type\": \"\",\n        \"description\": \"\"\n      }\n    },\n    {\n      \"column\": 0,\n      \"properties\": {\n        \"dtype\": \"number\",\n        \"std\": 48040,\n        \"min\": 7883,\n        \"max\": 133296,\n        \"num_unique_values\": 7,\n        \"samples\": [\n          15102,\n          78544,\n          10839\n        ],\n        \"semantic_type\": \"\",\n        \"description\": \"\"\n      }\n    },\n    {\n      \"column\": 1,\n      \"properties\": {\n        \"dtype\": \"number\",\n        \"std\": 27636,\n        \"min\": 0,\n        \"max\": 86291,\n        \"num_unique_values\": 7,\n        \"samples\": [\n          0,\n          21116,\n          27662\n        ],\n        \"semantic_type\": \"\",\n        \"description\": \"\"\n      }\n    }\n  ]\n}"
            }
          },
          "metadata": {},
          "execution_count": 24
        }
      ],
      "source": [
        "g1=pd.crosstab(df['Age'],df['Marital_Status'])\n",
        "g1"
      ]
    },
    {
      "cell_type": "code",
      "execution_count": 25,
      "metadata": {
        "colab": {
          "base_uri": "https://localhost:8080/",
          "height": 487
        },
        "id": "n2RGHULI0d81",
        "outputId": "bebc6ad7-4230-4b45-f6e2-31c0768bfbf3"
      },
      "outputs": [
        {
          "output_type": "execute_result",
          "data": {
            "text/plain": [
              "<Axes: xlabel='Marital_Status', ylabel='Age'>"
            ]
          },
          "metadata": {},
          "execution_count": 25
        },
        {
          "output_type": "display_data",
          "data": {
            "text/plain": [
              "<Figure size 640x480 with 2 Axes>"
            ],
            "image/png": "[encoded data removed]"
          },
          "metadata": {}
        }
      ],
      "source": [
        "sns.heatmap(g1,annot=True,fmt='d',cmap='Blues')"
      ]
    },
    {
      "cell_type": "code",
      "execution_count": 26,
      "metadata": {
        "colab": {
          "base_uri": "https://localhost:8080/"
        },
        "id": "vNpH33SZ1Amo",
        "outputId": "8a0d1948-07ee-4bb6-d8d5-28a64ba4debf"
      },
      "outputs": [
        {
          "output_type": "execute_result",
          "data": {
            "text/plain": [
              "Chi2ContingencyResult(statistic=np.float64(65038.31034963805), pvalue=np.float64(0.0), dof=6, expected_freq=array([[  8915.42056982,   6186.57943018],\n",
              "       [ 58833.98318026,  40826.01681974],\n",
              "       [129632.52924548,  89954.47075452],\n",
              "       [ 64945.84579179,  45067.15420821],\n",
              "       [ 26979.44877906,  18721.55122094],\n",
              "       [ 22728.95029524,  15772.04970476],\n",
              "       [ 12694.82213835,   8809.17786165]]))"
            ]
          },
          "metadata": {},
          "execution_count": 26
        }
      ],
      "source": [
        "chi2_contingency(g1)"
      ]
    },
    {
      "cell_type": "markdown",
      "metadata": {
        "id": "N8v75hzj1lHG"
      },
      "source": [
        "age,martial statsu are dependetn"
      ]
    },
    {
      "cell_type": "code",
      "execution_count": 27,
      "metadata": {
        "colab": {
          "base_uri": "https://localhost:8080/",
          "height": 529
        },
        "id": "xPsjcBl11pZV",
        "outputId": "4d9cf078-7646-4df7-daf8-97e7bf8273d7"
      },
      "outputs": [
        {
          "output_type": "execute_result",
          "data": {
            "text/plain": [
              "Age    Marital_Status\n",
              "0-17   0                  135021682\n",
              "18-25  0                  723842982\n",
              "       1                  189940652\n",
              "26-35  0                 1232038629\n",
              "       1                  797775316\n",
              "36-45  0                  623528423\n",
              "       1                  402114185\n",
              "46-50  0                  113593099\n",
              "       1                  307048570\n",
              "51-55  0                  103459507\n",
              "       1                  262872243\n",
              "55+    0                   75141706\n",
              "       1                  125443231\n",
              "Name: Purchase, dtype: int64"
            ],
            "text/html": [
              "<div>\n",
              "<style scoped>\n",
              "    .dataframe tbody tr th:only-of-type {\n",
              "        vertical-align: middle;\n",
              "    }\n",
              "\n",
              "    .dataframe tbody tr th {\n",
              "        vertical-align: top;\n",
              "    }\n",
              "\n",
              "    .dataframe thead th {\n",
              "        text-align: right;\n",
              "    }\n",
              "</style>\n",
              "<table border=\"1\" class=\"dataframe\">\n",
              "  <thead>\n",
              "    <tr style=\"text-align: right;\">\n",
              "      <th></th>\n",
              "      <th></th>\n",
              "      <th>Purchase</th>\n",
              "    </tr>\n",
              "    <tr>\n",
              "      <th>Age</th>\n",
              "      <th>Marital_Status</th>\n",
              "      <th></th>\n",
              "    </tr>\n",
              "  </thead>\n",
              "  <tbody>\n",
              "    <tr>\n",
              "      <th>0-17</th>\n",
              "      <th>0</th>\n",
              "      <td>135021682</td>\n",
              "    </tr>\n",
              "    <tr>\n",
              "      <th rowspan=\"2\" valign=\"top\">18-25</th>\n",
              "      <th>0</th>\n",
              "      <td>723842982</td>\n",
              "    </tr>\n",
              "    <tr>\n",
              "      <th>1</th>\n",
              "      <td>189940652</td>\n",
              "    </tr>\n",
              "    <tr>\n",
              "      <th rowspan=\"2\" valign=\"top\">26-35</th>\n",
              "      <th>0</th>\n",
              "      <td>1232038629</td>\n",
              "    </tr>\n",
              "    <tr>\n",
              "      <th>1</th>\n",
              "      <td>797775316</td>\n",
              "    </tr>\n",
              "    <tr>\n",
              "      <th rowspan=\"2\" valign=\"top\">36-45</th>\n",
              "      <th>0</th>\n",
              "      <td>623528423</td>\n",
              "    </tr>\n",
              "    <tr>\n",
              "      <th>1</th>\n",
              "      <td>402114185</td>\n",
              "    </tr>\n",
              "    <tr>\n",
              "      <th rowspan=\"2\" valign=\"top\">46-50</th>\n",
              "      <th>0</th>\n",
              "      <td>113593099</td>\n",
              "    </tr>\n",
              "    <tr>\n",
              "      <th>1</th>\n",
              "      <td>307048570</td>\n",
              "    </tr>\n",
              "    <tr>\n",
              "      <th rowspan=\"2\" valign=\"top\">51-55</th>\n",
              "      <th>0</th>\n",
              "      <td>103459507</td>\n",
              "    </tr>\n",
              "    <tr>\n",
              "      <th>1</th>\n",
              "      <td>262872243</td>\n",
              "    </tr>\n",
              "    <tr>\n",
              "      <th rowspan=\"2\" valign=\"top\">55+</th>\n",
              "      <th>0</th>\n",
              "      <td>75141706</td>\n",
              "    </tr>\n",
              "    <tr>\n",
              "      <th>1</th>\n",
              "      <td>125443231</td>\n",
              "    </tr>\n",
              "  </tbody>\n",
              "</table>\n",
              "</div><br><label><b>dtype:</b> int64</label>"
            ]
          },
          "metadata": {},
          "execution_count": 27
        }
      ],
      "source": [
        "c1=df.groupby([\"Age\",'Marital_Status'])['Purchase'].sum()\n",
        "c1"
      ]
    },
    {
      "cell_type": "code",
      "execution_count": 28,
      "metadata": {
        "colab": {
          "base_uri": "https://localhost:8080/",
          "height": 649
        },
        "id": "QcRJla-12PQ8",
        "outputId": "743037bd-2824-42e2-b1db-a0bf215d601c"
      },
      "outputs": [
        {
          "output_type": "execute_result",
          "data": {
            "text/plain": [
              "<Axes: xlabel='Age,Marital_Status'>"
            ]
          },
          "metadata": {},
          "execution_count": 28
        },
        {
          "output_type": "display_data",
          "data": {
            "text/plain": [
              "<Figure size 1200x600 with 1 Axes>"
            ],
            "image/png": "[encoded data removed]"
          },
          "metadata": {}
        }
      ],
      "source": [
        "c1.plot(kind='bar',figsize=(12,6), color=\"skyblue\", edgecolor=\"black\")"
      ]
    },
    {
      "cell_type": "markdown",
      "metadata": {
        "id": "xIWghtJw2kbU"
      },
      "source": [
        "even they spend more"
      ]
    },
    {
      "cell_type": "markdown",
      "metadata": {
        "id": "rKAf_9hc3-Qi"
      },
      "source": [
        "how does gender affect amount spent"
      ]
    },
    {
      "cell_type": "code",
      "execution_count": 29,
      "metadata": {
        "id": "2U4jozm48d77"
      },
      "outputs": [],
      "source": [
        "Male=df[df['Gender']=='M']\n",
        "Female=df[df['Gender']=='F']"
      ]
    },
    {
      "cell_type": "code",
      "source": [
        "mu=Male['Purchase'].mean()\n",
        "print(mu)\n",
        "std=Male['Purchase'].std()\n",
        "print(std)\n"
      ],
      "metadata": {
        "colab": {
          "base_uri": "https://localhost:8080/"
        },
        "id": "BVZynG9mGG_g",
        "outputId": "8a3cefa0-bb4a-4388-bfd5-363ca2e6d0fa"
      },
      "execution_count": 30,
      "outputs": [
        {
          "output_type": "stream",
          "name": "stdout",
          "text": [
            "9427.240996574606\n",
            "4925.9534922859\n"
          ]
        }
      ]
    },
    {
      "cell_type": "code",
      "source": [
        "mu=Female['Purchase'].mean()\n",
        "print(mu)\n",
        "std=Female['Purchase'].std()\n",
        "print(std)"
      ],
      "metadata": {
        "colab": {
          "base_uri": "https://localhost:8080/"
        },
        "id": "SrfKTyf1DZHN",
        "outputId": "0e183ded-529f-46be-8888-56ab0ffff953"
      },
      "execution_count": 31,
      "outputs": [
        {
          "output_type": "stream",
          "name": "stdout",
          "text": [
            "8736.540266109021\n",
            "4596.984613522649\n"
          ]
        }
      ]
    },
    {
      "cell_type": "markdown",
      "source": [
        "# 300 sample"
      ],
      "metadata": {
        "id": "cF_clkIZdpXs"
      }
    },
    {
      "cell_type": "code",
      "source": [
        "male_sample_300=[np.mean(Male['Purchase'].sample(300)) for i in range(1000)]"
      ],
      "metadata": {
        "id": "ll0TaNz-QYQF"
      },
      "execution_count": 32,
      "outputs": []
    },
    {
      "cell_type": "code",
      "source": [
        "male_mean_300=np.mean(male_sample_300)\n",
        "print(male_mean_300)\n",
        "std_300=np.std(male_sample_300)\n",
        "print(std_300)\n",
        "se_300=std_300/np.sqrt(300)\n",
        "print(se_300)"
      ],
      "metadata": {
        "colab": {
          "base_uri": "https://localhost:8080/"
        },
        "id": "Tq-aucg0R0_k",
        "outputId": "55a2eaa0-acb1-468c-e20c-6b34eb1b3c9d"
      },
      "execution_count": 33,
      "outputs": [
        {
          "output_type": "stream",
          "name": "stdout",
          "text": [
            "9431.020516666666\n",
            "288.66079877509776\n",
            "16.665838987729508\n"
          ]
        }
      ]
    },
    {
      "cell_type": "code",
      "source": [
        "z = 1.96\n",
        "lower=male_mean_300-(z*se_300)\n",
        "print(lower)\n",
        "upper=(z*se_300)+male_mean_300\n",
        "print(upper)"
      ],
      "metadata": {
        "colab": {
          "base_uri": "https://localhost:8080/"
        },
        "id": "OLINeS_aSIi5",
        "outputId": "b080e546-3463-477f-c90c-00f6a45dd8bf"
      },
      "execution_count": 34,
      "outputs": [
        {
          "output_type": "stream",
          "name": "stdout",
          "text": [
            "9398.355472250716\n",
            "9463.685561082615\n"
          ]
        }
      ]
    },
    {
      "cell_type": "code",
      "source": [
        "female_sample_300=[np.mean(Female['Purchase'].sample(300)) for i in range(1000)]"
      ],
      "metadata": {
        "id": "vKeGS4cET_ql"
      },
      "execution_count": 35,
      "outputs": []
    },
    {
      "cell_type": "code",
      "source": [
        "female_mean_300=np.mean(female_sample_300)\n",
        "print(female_mean_300)\n",
        "std_300=np.std(female_sample_300)\n",
        "print(std_300)\n",
        "se_300=std_300/np.sqrt(300)\n",
        "print(se_300)"
      ],
      "metadata": {
        "colab": {
          "base_uri": "https://localhost:8080/"
        },
        "id": "7MyjmbNkVUU_",
        "outputId": "0932255a-f5eb-4d61-d50a-84d7e1501e2d"
      },
      "execution_count": 36,
      "outputs": [
        {
          "output_type": "stream",
          "name": "stdout",
          "text": [
            "8737.7361\n",
            "262.63570882216936\n",
            "15.163279718728763\n"
          ]
        }
      ]
    },
    {
      "cell_type": "code",
      "source": [
        "z = 1.96\n",
        "lower=female_mean_300-(z*se_300)\n",
        "print(lower)\n",
        "upper=(z*se_300)+female_mean_300\n",
        "print(upper)"
      ],
      "metadata": {
        "colab": {
          "base_uri": "https://localhost:8080/"
        },
        "id": "Of2dZUDfXCBR",
        "outputId": "7dac0b29-d8e4-471d-8589-0fa26da2ece5"
      },
      "execution_count": 37,
      "outputs": [
        {
          "output_type": "stream",
          "name": "stdout",
          "text": [
            "8708.016071751292\n",
            "8767.456128248708\n"
          ]
        }
      ]
    },
    {
      "cell_type": "code",
      "source": [
        "sns.histplot(male_sample_300,kde=True,bins=100,color='r')\n",
        "sns.histplot(female_sample_300,kde=True,bins=100,color='g')"
      ],
      "metadata": {
        "colab": {
          "base_uri": "https://localhost:8080/",
          "height": 467
        },
        "id": "LbjSSvWHXJUO",
        "outputId": "65d54852-e06d-41c1-a162-51318e9152f6"
      },
      "execution_count": 38,
      "outputs": [
        {
          "output_type": "execute_result",
          "data": {
            "text/plain": [
              "<Axes: ylabel='Count'>"
            ]
          },
          "metadata": {},
          "execution_count": 38
        },
        {
          "output_type": "display_data",
          "data": {
            "text/plain": [
              "<Figure size 640x480 with 1 Axes>"
            ],
            "image/png": "[encoded data removed]"
          },
          "metadata": {}
        }
      ]
    },
    {
      "cell_type": "markdown",
      "source": [
        "# **3000 sample**"
      ],
      "metadata": {
        "id": "Jbv4kRAEd7NU"
      }
    },
    {
      "cell_type": "code",
      "source": [
        "male_sample_300=[np.mean(Male['Purchase'].sample(3000)) for i in range(1000)]\n",
        "male_mean_300=np.mean(male_sample_300)\n",
        "print(male_mean_300)\n",
        "std_300=np.std(male_sample_300)\n",
        "print(std_300)\n",
        "se_300=std_300/np.sqrt(3000)\n",
        "print(se_300)"
      ],
      "metadata": {
        "colab": {
          "base_uri": "https://localhost:8080/"
        },
        "id": "qI4kG3k8eBd2",
        "outputId": "e08b3906-7b3d-4ba0-d985-bcb1159d0a4d"
      },
      "execution_count": 39,
      "outputs": [
        {
          "output_type": "stream",
          "name": "stdout",
          "text": [
            "9429.153534666668\n",
            "88.12560645851228\n",
            "1.6089460850383377\n"
          ]
        }
      ]
    },
    {
      "cell_type": "code",
      "source": [
        "z = 1.96\n",
        "lower=male_mean_300-(z*se_300)\n",
        "print(lower)\n",
        "upper=(z*se_300)+male_mean_300\n",
        "print(upper)"
      ],
      "metadata": {
        "colab": {
          "base_uri": "https://localhost:8080/"
        },
        "id": "vO4u5enxeI0W",
        "outputId": "342f396d-c607-457b-9965-94782ab9fe0c"
      },
      "execution_count": 40,
      "outputs": [
        {
          "output_type": "stream",
          "name": "stdout",
          "text": [
            "9426.000000339993\n",
            "9432.307068993343\n"
          ]
        }
      ]
    },
    {
      "cell_type": "code",
      "source": [
        "female_sample_300=[np.mean(Female['Purchase'].sample(3000)) for i in range(1000)]\n",
        "female_mean_300=np.mean(female_sample_300)\n",
        "print(female_mean_300)\n",
        "std_300=np.std(female_sample_300)\n",
        "print(std_300)\n",
        "se_300=std_300/np.sqrt(3000)\n",
        "print(se_300)"
      ],
      "metadata": {
        "colab": {
          "base_uri": "https://localhost:8080/"
        },
        "id": "J-gAs_PSeNSG",
        "outputId": "ffc904bd-b162-43b0-b461-95b078897b1d"
      },
      "execution_count": 41,
      "outputs": [
        {
          "output_type": "stream",
          "name": "stdout",
          "text": [
            "8733.064762333333\n",
            "83.10956058970098\n",
            "1.517366035977386\n"
          ]
        }
      ]
    },
    {
      "cell_type": "code",
      "source": [
        "z = 1.96\n",
        "lower=female_mean_300-(z*se_300)\n",
        "print(lower)\n",
        "upper=(z*se_300)+female_mean_300\n",
        "print(upper)"
      ],
      "metadata": {
        "colab": {
          "base_uri": "https://localhost:8080/"
        },
        "id": "Eqe2FgG8fai7",
        "outputId": "1b6a3175-d8a6-4c2e-a5a8-621ce4dc982f"
      },
      "execution_count": 42,
      "outputs": [
        {
          "output_type": "stream",
          "name": "stdout",
          "text": [
            "8730.090724902817\n",
            "8736.03879976385\n"
          ]
        }
      ]
    },
    {
      "cell_type": "code",
      "source": [
        "sns.histplot(male_sample_300,kde=True,bins=100,color='r')\n",
        "sns.histplot(female_sample_300,kde=True,bins=100,color='g')"
      ],
      "metadata": {
        "colab": {
          "base_uri": "https://localhost:8080/",
          "height": 467
        },
        "id": "Ml_EK86xfcI5",
        "outputId": "71b226b9-52d5-43d2-d15a-5e6a01699a82"
      },
      "execution_count": 43,
      "outputs": [
        {
          "output_type": "execute_result",
          "data": {
            "text/plain": [
              "<Axes: ylabel='Count'>"
            ]
          },
          "metadata": {},
          "execution_count": 43
        },
        {
          "output_type": "display_data",
          "data": {
            "text/plain": [
              "<Figure size 640x480 with 1 Axes>"
            ],
            "image/png": "[encoded data removed]"
          },
          "metadata": {}
        }
      ]
    },
    {
      "cell_type": "markdown",
      "source": [
        " 30000"
      ],
      "metadata": {
        "id": "nINzge6vfky4"
      }
    },
    {
      "cell_type": "code",
      "source": [
        "male_sample_300=[np.mean(Male['Purchase'].sample(30000)) for i in range(1000)]\n",
        "male_mean_300=np.mean(male_sample_300)\n",
        "print(male_mean_300)\n",
        "std_300=np.std(male_sample_300)\n",
        "print(std_300)\n",
        "se_300=std_300/np.sqrt(30000)\n",
        "print(se_300)"
      ],
      "metadata": {
        "colab": {
          "base_uri": "https://localhost:8080/"
        },
        "id": "nCHSEh5pfqOu",
        "outputId": "df4bdd70-0e40-406f-8df5-4ed8a7f5ff36"
      },
      "execution_count": 44,
      "outputs": [
        {
          "output_type": "stream",
          "name": "stdout",
          "text": [
            "9426.958689766667\n",
            "26.525508001394822\n",
            "0.15314509184996875\n"
          ]
        }
      ]
    },
    {
      "cell_type": "code",
      "source": [
        "z = 1.96\n",
        "lower=male_mean_300-(z*se_300)\n",
        "print(lower)\n",
        "upper=(z*se_300)+male_mean_300\n",
        "print(upper)"
      ],
      "metadata": {
        "colab": {
          "base_uri": "https://localhost:8080/"
        },
        "id": "kD3K-NWTfywT",
        "outputId": "2133c621-06f0-4685-bc39-0df40256f982"
      },
      "execution_count": 45,
      "outputs": [
        {
          "output_type": "stream",
          "name": "stdout",
          "text": [
            "9426.658525386641\n",
            "9427.258854146692\n"
          ]
        }
      ]
    },
    {
      "cell_type": "code",
      "source": [
        "female_sample_300=[np.mean(Female['Purchase'].sample(30000)) for i in range(1000)]\n",
        "female_mean_300=np.mean(female_sample_300)\n",
        "print(female_mean_300)\n",
        "std_300=np.std(female_sample_300)\n",
        "print(std_300)\n",
        "se_300=std_300/np.sqrt(30000)\n",
        "print(se_300)"
      ],
      "metadata": {
        "colab": {
          "base_uri": "https://localhost:8080/"
        },
        "id": "Y4gu2f-Df2K3",
        "outputId": "aa5ebebf-6583-4d5c-fe60-6caced1ae562"
      },
      "execution_count": 46,
      "outputs": [
        {
          "output_type": "stream",
          "name": "stdout",
          "text": [
            "8735.538274066666\n",
            "24.074454291621866\n",
            "0.13899392665861227\n"
          ]
        }
      ]
    },
    {
      "cell_type": "code",
      "source": [
        "z=1.96\n",
        "lower=female_mean_300-(z*se_300)\n",
        "print(lower)\n",
        "upper=(z*se_300)+female_mean_300\n",
        "print(upper)"
      ],
      "metadata": {
        "colab": {
          "base_uri": "https://localhost:8080/"
        },
        "id": "wJh9YVBgf8kd",
        "outputId": "6162d99f-43b1-4153-b7c6-658a2459a19e"
      },
      "execution_count": 47,
      "outputs": [
        {
          "output_type": "stream",
          "name": "stdout",
          "text": [
            "8735.265845970416\n",
            "8735.810702162917\n"
          ]
        }
      ]
    },
    {
      "cell_type": "code",
      "source": [
        "sns.histplot(male_sample_300,kde=True,bins=100,color='r')\n",
        "sns.histplot(female_sample_300,kde=True,bins=100,color='g')"
      ],
      "metadata": {
        "colab": {
          "base_uri": "https://localhost:8080/",
          "height": 467
        },
        "id": "LG4x-Spuf-cp",
        "outputId": "9229a01e-67af-4e81-9eaa-172c989c4d87"
      },
      "execution_count": 48,
      "outputs": [
        {
          "output_type": "execute_result",
          "data": {
            "text/plain": [
              "<Axes: ylabel='Count'>"
            ]
          },
          "metadata": {},
          "execution_count": 48
        },
        {
          "output_type": "display_data",
          "data": {
            "text/plain": [
              "<Figure size 640x480 with 1 Axes>"
            ],
            "image/png": "[encoded data removed]"
          },
          "metadata": {}
        }
      ]
    },
    {
      "cell_type": "markdown",
      "source": [
        "### For plot 1"
      ],
      "metadata": {
        "id": "3TE7QZN1D3L3"
      }
    },
    {
      "cell_type": "markdown",
      "source": [
        "sample sie=300\n",
        "Both male (red) and female (green) distributions are wide and overlapping.\n",
        "High variance because the sample is small.\n",
        "It’s unclear if males truly spend more — the noise hides the effect."
      ],
      "metadata": {
        "id": "aapbjVuVH___"
      }
    },
    {
      "cell_type": "markdown",
      "source": [
        "## for plot 2"
      ],
      "metadata": {
        "id": "GdOcblwmIt6E"
      }
    },
    {
      "cell_type": "markdown",
      "source": [
        "sample size=3000\n",
        "Distributions are narrower (reduced variance).\n",
        "Some overlap still exists, but separation is becoming more visible.\n",
        "Gender difference in spending is emerging more clearly."
      ],
      "metadata": {
        "id": "6VBOqQ2JJnG_"
      }
    },
    {
      "cell_type": "markdown",
      "source": [
        "## for plot 3"
      ],
      "metadata": {
        "id": "1sgeMWxyJT0G"
      }
    },
    {
      "cell_type": "markdown",
      "source": [
        "sample size=30000\n",
        "Distributions are very narrow (almost sharp peaks).\n",
        "No overlap — males consistently spend more than females.\n",
        "Confirms that the gender effect is statistically significant with large data."
      ],
      "metadata": {
        "id": "dB1toRAsJZaL"
      }
    },
    {
      "cell_type": "markdown",
      "source": [
        "male mean is higher then female and if increase sample size their distribution is not overlapping so male has a higher purchase and with 95% ci we can clealry see ci is greater for male"
      ],
      "metadata": {
        "id": "hImtVYRnJrVC"
      }
    },
    {
      "cell_type": "markdown",
      "source": [
        "The 95% confidence intervals for average spending by males and females do not overlap, which indicates that males spend significantly more than females at Walmart. This insight suggests that Walmart can focus its premium product marketing and loyalty programs more toward male customers, while simultaneously creating targeted promotions to encourage higher spending among female shoppers.”"
      ],
      "metadata": {
        "id": "nd2wPQQOKQc6"
      }
    },
    {
      "cell_type": "code",
      "source": [
        "df.head(1)"
      ],
      "metadata": {
        "colab": {
          "base_uri": "https://localhost:8080/",
          "height": 116
        },
        "id": "SDdzHFMEKpDt",
        "outputId": "a0ccb856-a9e7-4cd8-de42-4d0957a48873"
      },
      "execution_count": 49,
      "outputs": [
        {
          "output_type": "execute_result",
          "data": {
            "text/plain": [
              "   User_ID Product_ID Gender   Age  Occupation City_Category  \\\n",
              "0  1000001  P00069042      F  0-17          10             A   \n",
              "\n",
              "  Stay_In_Current_City_Years  Marital_Status  Product_Category  Purchase  \n",
              "0                          2               0                 3      8370  "
            ],
            "text/html": [
              "\n",
              "  <div id=\"df-81e9dc8e-fdf3-43bc-8e4b-9321ef6451a5\" class=\"colab-df-container\">\n",
              "    <div>\n",
              "<style scoped>\n",
              "    .dataframe tbody tr th:only-of-type {\n",
              "        vertical-align: middle;\n",
              "    }\n",
              "\n",
              "    .dataframe tbody tr th {\n",
              "        vertical-align: top;\n",
              "    }\n",
              "\n",
              "    .dataframe thead th {\n",
              "        text-align: right;\n",
              "    }\n",
              "</style>\n",
              "<table border=\"1\" class=\"dataframe\">\n",
              "  <thead>\n",
              "    <tr style=\"text-align: right;\">\n",
              "      <th></th>\n",
              "      <th>User_ID</th>\n",
              "      <th>Product_ID</th>\n",
              "      <th>Gender</th>\n",
              "      <th>Age</th>\n",
              "      <th>Occupation</th>\n",
              "      <th>City_Category</th>\n",
              "      <th>Stay_In_Current_City_Years</th>\n",
              "      <th>Marital_Status</th>\n",
              "      <th>Product_Category</th>\n",
              "      <th>Purchase</th>\n",
              "    </tr>\n",
              "  </thead>\n",
              "  <tbody>\n",
              "    <tr>\n",
              "      <th>0</th>\n",
              "      <td>1000001</td>\n",
              "      <td>P00069042</td>\n",
              "      <td>F</td>\n",
              "      <td>0-17</td>\n",
              "      <td>10</td>\n",
              "      <td>A</td>\n",
              "      <td>2</td>\n",
              "      <td>0</td>\n",
              "      <td>3</td>\n",
              "      <td>8370</td>\n",
              "    </tr>\n",
              "  </tbody>\n",
              "</table>\n",
              "</div>\n",
              "    <div class=\"colab-df-buttons\">\n",
              "\n",
              "  <div class=\"colab-df-container\">\n",
              "    <button class=\"colab-df-convert\" onclick=\"convertToInteractive('df-81e9dc8e-fdf3-43bc-8e4b-9321ef6451a5')\"\n",
              "            title=\"Convert this dataframe to an interactive table.\"\n",
              "            style=\"display:none;\">\n",
              "\n",
              "  <svg xmlns=\"http://www.w3.org/2000/svg\" height=\"24px\" viewBox=\"0 -960 960 960\">\n",
              "    <path d=\"M120-120v-720h720v720H120Zm60-500h600v-160H180v160Zm220 220h160v-160H400v160Zm0 220h160v-160H400v160ZM180-400h160v-160H180v160Zm440 0h160v-160H620v160ZM180-180h160v-160H180v160Zm440 0h160v-160H620v160Z\"/>\n",
              "  </svg>\n",
              "    </button>\n",
              "\n",
              "  <style>\n",
              "    .colab-df-container {\n",
              "      display:flex;\n",
              "      gap: 12px;\n",
              "    }\n",
              "\n",
              "    .colab-df-convert {\n",
              "      background-color: #E8F0FE;\n",
              "      border: none;\n",
              "      border-radius: 50%;\n",
              "      cursor: pointer;\n",
              "      display: none;\n",
              "      fill: #1967D2;\n",
              "      height: 32px;\n",
              "      padding: 0 0 0 0;\n",
              "      width: 32px;\n",
              "    }\n",
              "\n",
              "    .colab-df-convert:hover {\n",
              "      background-color: #E2EBFA;\n",
              "      box-shadow: 0px 1px 2px rgba(60, 64, 67, 0.3), 0px 1px 3px 1px rgba(60, 64, 67, 0.15);\n",
              "      fill: #174EA6;\n",
              "    }\n",
              "\n",
              "    .colab-df-buttons div {\n",
              "      margin-bottom: 4px;\n",
              "    }\n",
              "\n",
              "    [theme=dark] .colab-df-convert {\n",
              "      background-color: #3B4455;\n",
              "      fill: #D2E3FC;\n",
              "    }\n",
              "\n",
              "    [theme=dark] .colab-df-convert:hover {\n",
              "      background-color: #434B5C;\n",
              "      box-shadow: 0px 1px 3px 1px rgba(0, 0, 0, 0.15);\n",
              "      filter: drop-shadow(0px 1px 2px rgba(0, 0, 0, 0.3));\n",
              "      fill: #FFFFFF;\n",
              "    }\n",
              "  </style>\n",
              "\n",
              "    <script>\n",
              "      const buttonEl =\n",
              "        document.querySelector('#df-81e9dc8e-fdf3-43bc-8e4b-9321ef6451a5 button.colab-df-convert');\n",
              "      buttonEl.style.display =\n",
              "        google.colab.kernel.accessAllowed ? 'block' : 'none';\n",
              "\n",
              "      async function convertToInteractive(key) {\n",
              "        const element = document.querySelector('#df-81e9dc8e-fdf3-43bc-8e4b-9321ef6451a5');\n",
              "        const dataTable =\n",
              "          await google.colab.kernel.invokeFunction('convertToInteractive',\n",
              "                                                    [key], {});\n",
              "        if (!dataTable) return;\n",
              "\n",
              "        const docLinkHtml = 'Like what you see? Visit the ' +\n",
              "          '<a target=\"_blank\" href=https://colab.research.google.com/notebooks/data_table.ipynb>data table notebook</a>'\n",
              "          + ' to learn more about interactive tables.';\n",
              "        element.innerHTML = '';\n",
              "        dataTable['output_type'] = 'display_data';\n",
              "        await google.colab.output.renderOutput(dataTable, element);\n",
              "        const docLink = document.createElement('div');\n",
              "        docLink.innerHTML = docLinkHtml;\n",
              "        element.appendChild(docLink);\n",
              "      }\n",
              "    </script>\n",
              "  </div>\n",
              "\n",
              "\n",
              "    </div>\n",
              "  </div>\n"
            ],
            "application/vnd.google.colaboratory.intrinsic+json": {
              "type": "dataframe",
              "variable_name": "df"
            }
          },
          "metadata": {},
          "execution_count": 49
        }
      ]
    },
    {
      "cell_type": "markdown",
      "source": [
        "## How does Marital_Status affect the amount spent?"
      ],
      "metadata": {
        "id": "XMBmMLEOKZet"
      }
    },
    {
      "cell_type": "code",
      "source": [
        "sns.boxplot(x='Marital_Status',y='Purchase',data=df)"
      ],
      "metadata": {
        "colab": {
          "base_uri": "https://localhost:8080/",
          "height": 488
        },
        "id": "CbKEmmDoKeg_",
        "outputId": "0e987ee3-0068-47f6-caa2-32892bbb3589"
      },
      "execution_count": 50,
      "outputs": [
        {
          "output_type": "execute_result",
          "data": {
            "text/plain": [
              "<Axes: xlabel='Marital_Status', ylabel='Purchase'>"
            ]
          },
          "metadata": {},
          "execution_count": 50
        },
        {
          "output_type": "display_data",
          "data": {
            "text/plain": [
              "<Figure size 640x480 with 1 Axes>"
            ],
            "image/png": "[encoded data removed]"
          },
          "metadata": {}
        }
      ]
    },
    {
      "cell_type": "code",
      "source": [
        "df.groupby('Marital_Status')['Purchase'].mean()"
      ],
      "metadata": {
        "colab": {
          "base_uri": "https://localhost:8080/",
          "height": 193
        },
        "id": "WRDA933_NKBt",
        "outputId": "65069516-3f04-48b7-aeb9-19ee5da6a175"
      },
      "execution_count": 51,
      "outputs": [
        {
          "output_type": "execute_result",
          "data": {
            "text/plain": [
              "Marital_Status\n",
              "0    9258.820464\n",
              "1    9253.669823\n",
              "Name: Purchase, dtype: float64"
            ],
            "text/html": [
              "<div>\n",
              "<style scoped>\n",
              "    .dataframe tbody tr th:only-of-type {\n",
              "        vertical-align: middle;\n",
              "    }\n",
              "\n",
              "    .dataframe tbody tr th {\n",
              "        vertical-align: top;\n",
              "    }\n",
              "\n",
              "    .dataframe thead th {\n",
              "        text-align: right;\n",
              "    }\n",
              "</style>\n",
              "<table border=\"1\" class=\"dataframe\">\n",
              "  <thead>\n",
              "    <tr style=\"text-align: right;\">\n",
              "      <th></th>\n",
              "      <th>Purchase</th>\n",
              "    </tr>\n",
              "    <tr>\n",
              "      <th>Marital_Status</th>\n",
              "      <th></th>\n",
              "    </tr>\n",
              "  </thead>\n",
              "  <tbody>\n",
              "    <tr>\n",
              "      <th>0</th>\n",
              "      <td>9258.820464</td>\n",
              "    </tr>\n",
              "    <tr>\n",
              "      <th>1</th>\n",
              "      <td>9253.669823</td>\n",
              "    </tr>\n",
              "  </tbody>\n",
              "</table>\n",
              "</div><br><label><b>dtype:</b> float64</label>"
            ]
          },
          "metadata": {},
          "execution_count": 51
        }
      ]
    },
    {
      "cell_type": "code",
      "source": [
        "un_married=df[df['Marital_Status']==0]\n",
        "married=df[df['Marital_Status']==1]"
      ],
      "metadata": {
        "id": "4VWVBVV6Ngop"
      },
      "execution_count": 52,
      "outputs": []
    },
    {
      "cell_type": "code",
      "source": [
        "u1=un_married['Purchase'].mean()\n",
        "print(u1)\n",
        "std1=un_married['Purchase'].std()\n",
        "print(std1)"
      ],
      "metadata": {
        "colab": {
          "base_uri": "https://localhost:8080/"
        },
        "id": "NUszwfH6R2rc",
        "outputId": "4b85cc72-c344-4fa6-cbca-70fdf403ac74"
      },
      "execution_count": 53,
      "outputs": [
        {
          "output_type": "stream",
          "name": "stdout",
          "text": [
            "9258.820463706883\n",
            "4864.581471475336\n"
          ]
        }
      ]
    },
    {
      "cell_type": "code",
      "source": [
        "m1=married['Purchase'].mean()\n",
        "print(m1)\n",
        "std2=married['Purchase'].std()\n",
        "print(std2)"
      ],
      "metadata": {
        "colab": {
          "base_uri": "https://localhost:8080/"
        },
        "id": "jFMGpkYpSdQD",
        "outputId": "3aa15867-4b2c-4f19-ba39-eb5368a43778"
      },
      "execution_count": 54,
      "outputs": [
        {
          "output_type": "stream",
          "name": "stdout",
          "text": [
            "9253.669823420034\n",
            "4843.48644692002\n"
          ]
        }
      ]
    },
    {
      "cell_type": "markdown",
      "source": [
        "for 300 sample"
      ],
      "metadata": {
        "id": "_DyE9fk9S-CH"
      }
    },
    {
      "cell_type": "code",
      "source": [
        "un_sample=[np.mean(un_married['Purchase'].sample(300)) for i in range(1000)]\n",
        "un_mean=np.mean(un_sample)\n",
        "print(un_mean)\n",
        "std1=np.std(un_sample)\n",
        "print(std1)\n",
        "se=std1/np.sqrt(300)\n",
        "print(se)\n"
      ],
      "metadata": {
        "colab": {
          "base_uri": "https://localhost:8080/"
        },
        "id": "P_eB2kAuTA3e",
        "outputId": "f2a879a0-ab7a-4c42-f03f-a083fd3ae191"
      },
      "execution_count": 55,
      "outputs": [
        {
          "output_type": "stream",
          "name": "stdout",
          "text": [
            "9253.660053333335\n",
            "282.79025677640277\n",
            "16.326903087405952\n"
          ]
        }
      ]
    },
    {
      "cell_type": "code",
      "source": [
        "z = 1.96\n",
        "lower=un_mean-(z*se)\n",
        "print(lower)\n",
        "upper=(z*se)+un_mean\n",
        "print(upper)"
      ],
      "metadata": {
        "colab": {
          "base_uri": "https://localhost:8080/"
        },
        "id": "YXwgfNeDVVI_",
        "outputId": "fa698ac9-df1a-4976-f2a7-13ade867dd0d"
      },
      "execution_count": 56,
      "outputs": [
        {
          "output_type": "stream",
          "name": "stdout",
          "text": [
            "9221.65932328202\n",
            "9285.66078338465\n"
          ]
        }
      ]
    },
    {
      "cell_type": "code",
      "source": [
        "married_sample=[np.mean(married['Purchase'].sample(300)) for i in range(1000)]\n",
        "ma_mean=np.mean(married_sample)\n",
        "print(ma_mean)\n",
        "std1=np.std(married_sample)\n",
        "print(std1)\n",
        "se=std1/np.sqrt(300)\n",
        "print(se)"
      ],
      "metadata": {
        "colab": {
          "base_uri": "https://localhost:8080/"
        },
        "id": "DwR5YIRfW75H",
        "outputId": "ddd7b35e-81fc-4e36-e4ea-4470a83443f7"
      },
      "execution_count": 57,
      "outputs": [
        {
          "output_type": "stream",
          "name": "stdout",
          "text": [
            "9235.089416666666\n",
            "280.214779999009\n",
            "16.17820786633396\n"
          ]
        }
      ]
    },
    {
      "cell_type": "code",
      "source": [
        "z = 1.96\n",
        "lower=ma_mean-(z*se)\n",
        "print(lower)\n",
        "upper=(z*se)+ma_mean\n",
        "print(upper)"
      ],
      "metadata": {
        "colab": {
          "base_uri": "https://localhost:8080/"
        },
        "id": "Zt2DjBk5aMWb",
        "outputId": "f00fbd21-4010-4cc9-cf28-dcd74e4fcbfc"
      },
      "execution_count": 58,
      "outputs": [
        {
          "output_type": "stream",
          "name": "stdout",
          "text": [
            "9203.380129248651\n",
            "9266.79870408468\n"
          ]
        }
      ]
    },
    {
      "cell_type": "code",
      "source": [
        "sns.histplot(un_sample,kde=True,bins=100,color='r')\n",
        "sns.histplot(married_sample,kde=True,bins=100,color='g')"
      ],
      "metadata": {
        "colab": {
          "base_uri": "https://localhost:8080/",
          "height": 467
        },
        "id": "W69VG3mMaS9c",
        "outputId": "158f6611-66db-4be6-8b3c-af00f9f498e4"
      },
      "execution_count": 59,
      "outputs": [
        {
          "output_type": "execute_result",
          "data": {
            "text/plain": [
              "<Axes: ylabel='Count'>"
            ]
          },
          "metadata": {},
          "execution_count": 59
        },
        {
          "output_type": "display_data",
          "data": {
            "text/plain": [
              "<Figure size 640x480 with 1 Axes>"
            ],
            "image/png": "[encoded data removed]"
          },
          "metadata": {}
        }
      ]
    },
    {
      "cell_type": "code",
      "source": [
        "un_sample=[np.mean(un_married['Purchase'].sample(3000)) for i in range(1000)]\n",
        "un_mean=np.mean(un_sample)\n",
        "print(un_mean)\n",
        "std1=np.std(un_sample)\n",
        "print(std1)\n",
        "se=std1/np.sqrt(3000)\n",
        "print(se)"
      ],
      "metadata": {
        "colab": {
          "base_uri": "https://localhost:8080/"
        },
        "id": "-W6Kbs1FahKE",
        "outputId": "9bf0352e-5901-462f-ca30-1f1de364fdb2"
      },
      "execution_count": 60,
      "outputs": [
        {
          "output_type": "stream",
          "name": "stdout",
          "text": [
            "9258.597303333334\n",
            "86.97344815109182\n",
            "1.587910648545299\n"
          ]
        }
      ]
    },
    {
      "cell_type": "code",
      "source": [
        "z = 1.96\n",
        "lower=un_mean-(z*se)\n",
        "print(lower)\n",
        "upper=(z*se)+un_mean\n",
        "print(upper)"
      ],
      "metadata": {
        "colab": {
          "base_uri": "https://localhost:8080/"
        },
        "id": "sxFgsyE_amLW",
        "outputId": "a45ac74b-27e1-4909-f3dc-e6453e957e01"
      },
      "execution_count": 61,
      "outputs": [
        {
          "output_type": "stream",
          "name": "stdout",
          "text": [
            "9255.484998462185\n",
            "9261.709608204483\n"
          ]
        }
      ]
    },
    {
      "cell_type": "code",
      "source": [
        "married_sample=[np.mean(married['Purchase'].sample(3000)) for i in range(1000)]\n",
        "ma_mean=np.mean(married_sample)\n",
        "print(ma_mean)\n",
        "std1=np.std(married_sample)\n",
        "print(std1)\n",
        "se=std1/np.sqrt(3000)\n",
        "print(se)"
      ],
      "metadata": {
        "colab": {
          "base_uri": "https://localhost:8080/"
        },
        "id": "4dDHbulMa-mJ",
        "outputId": "6412d5ea-164b-40bc-fae0-30f364322197"
      },
      "execution_count": 62,
      "outputs": [
        {
          "output_type": "stream",
          "name": "stdout",
          "text": [
            "9254.072043666669\n",
            "89.19450164126947\n",
            "1.6284613518118283\n"
          ]
        }
      ]
    },
    {
      "cell_type": "code",
      "source": [
        "z = 1.96\n",
        "lower=ma_mean-(z*se)\n",
        "print(lower)\n",
        "upper=(z*se)+ma_mean\n",
        "print(upper)"
      ],
      "metadata": {
        "colab": {
          "base_uri": "https://localhost:8080/"
        },
        "id": "uca_YofmbDDm",
        "outputId": "4e04a96a-6867-451d-9785-ccf34c423577"
      },
      "execution_count": 63,
      "outputs": [
        {
          "output_type": "stream",
          "name": "stdout",
          "text": [
            "9250.880259417117\n",
            "9257.26382791622\n"
          ]
        }
      ]
    },
    {
      "cell_type": "code",
      "source": [
        "sns.histplot(un_sample,kde=True,bins=100,color='r')\n",
        "sns.histplot(married_sample,kde=True,bins=100,color='g')"
      ],
      "metadata": {
        "colab": {
          "base_uri": "https://localhost:8080/",
          "height": 467
        },
        "id": "wLpFEmcmbNUn",
        "outputId": "3695cc2f-819e-4d29-be8d-b9bdbbae80fe"
      },
      "execution_count": 64,
      "outputs": [
        {
          "output_type": "execute_result",
          "data": {
            "text/plain": [
              "<Axes: ylabel='Count'>"
            ]
          },
          "metadata": {},
          "execution_count": 64
        },
        {
          "output_type": "display_data",
          "data": {
            "text/plain": [
              "<Figure size 640x480 with 1 Axes>"
            ],
            "image/png": "[encoded data removed]"
          },
          "metadata": {}
        }
      ]
    },
    {
      "cell_type": "code",
      "source": [
        "un_sample=[np.mean(un_married['Purchase'].sample(30000)) for i in range(1000)]\n",
        "un_mean=np.mean(un_sample)\n",
        "print(un_mean)\n",
        "std1=np.std(un_sample)\n",
        "print(std1)\n",
        "se=std1/np.sqrt(30000)\n",
        "print(se)"
      ],
      "metadata": {
        "colab": {
          "base_uri": "https://localhost:8080/"
        },
        "id": "NKSK3mndcAQ2",
        "outputId": "bd830e8c-7fbf-4fab-e3ef-00af94a9a8bd"
      },
      "execution_count": 65,
      "outputs": [
        {
          "output_type": "stream",
          "name": "stdout",
          "text": [
            "9259.588068166666\n",
            "27.880079722013388\n",
            "0.16096571532532658\n"
          ]
        }
      ]
    },
    {
      "cell_type": "code",
      "source": [
        "z = 1.96\n",
        "lower=un_mean-(z*se)\n",
        "print(lower)\n",
        "upper=(z*se)+un_mean\n",
        "print(upper)"
      ],
      "metadata": {
        "colab": {
          "base_uri": "https://localhost:8080/"
        },
        "id": "lpL9vIEocFc7",
        "outputId": "52d673b3-b686-493d-96b6-ef1e42fd3a99"
      },
      "execution_count": 66,
      "outputs": [
        {
          "output_type": "stream",
          "name": "stdout",
          "text": [
            "9259.272575364628\n",
            "9259.903560968703\n"
          ]
        }
      ]
    },
    {
      "cell_type": "code",
      "source": [
        "married_sample=[np.mean(married['Purchase'].sample(30000)) for i in range(1000)]\n",
        "ma_mean=np.mean(married_sample)\n",
        "print(ma_mean)\n",
        "std1=np.std(married_sample)\n",
        "print(std1)\n",
        "se=std1/np.sqrt(30000)\n",
        "print(se)"
      ],
      "metadata": {
        "colab": {
          "base_uri": "https://localhost:8080/"
        },
        "id": "1KjzxS8HcOGz",
        "outputId": "ade84c76-44f1-47bf-eb52-96788161b455"
      },
      "execution_count": 67,
      "outputs": [
        {
          "output_type": "stream",
          "name": "stdout",
          "text": [
            "9254.309697633333\n",
            "26.52517452478625\n",
            "0.15314316652187146\n"
          ]
        }
      ]
    },
    {
      "cell_type": "code",
      "source": [
        "z = 1.96\n",
        "lower=ma_mean-(z*se)\n",
        "print(lower)\n",
        "upper=(z*se)+ma_mean\n",
        "print(upper)"
      ],
      "metadata": {
        "colab": {
          "base_uri": "https://localhost:8080/"
        },
        "id": "QQWjM6OvcTmi",
        "outputId": "eca3a0d8-d291-467c-eee0-ce4e0b9b4eb8"
      },
      "execution_count": 68,
      "outputs": [
        {
          "output_type": "stream",
          "name": "stdout",
          "text": [
            "9254.00953702695\n",
            "9254.609858239715\n"
          ]
        }
      ]
    },
    {
      "cell_type": "code",
      "source": [
        "sns.histplot(un_sample,kde=True,bins=100,color='r')\n",
        "sns.histplot(married_sample,kde=True,bins=100,color='g')"
      ],
      "metadata": {
        "colab": {
          "base_uri": "https://localhost:8080/",
          "height": 467
        },
        "id": "fXP04ycCcWiD",
        "outputId": "a0c65c1c-3feb-4c7b-bc95-10961c6ca593"
      },
      "execution_count": 69,
      "outputs": [
        {
          "output_type": "execute_result",
          "data": {
            "text/plain": [
              "<Axes: ylabel='Count'>"
            ]
          },
          "metadata": {},
          "execution_count": 69
        },
        {
          "output_type": "display_data",
          "data": {
            "text/plain": [
              "<Figure size 640x480 with 1 Axes>"
            ],
            "image/png": "[encoded data removed]"
          },
          "metadata": {}
        }
      ]
    },
    {
      "cell_type": "markdown",
      "source": [
        "plot 1,2,3 both all overlapping so no signifacnt"
      ],
      "metadata": {
        "id": "Z0kJCnVvR02I"
      }
    },
    {
      "cell_type": "markdown",
      "source": [
        "How does Age affect the amount spent?"
      ],
      "metadata": {
        "id": "g7VJt06TcwhJ"
      }
    },
    {
      "cell_type": "code",
      "source": [
        "df.head(1)"
      ],
      "metadata": {
        "colab": {
          "base_uri": "https://localhost:8080/",
          "height": 116
        },
        "id": "7-7bW0_qcxaT",
        "outputId": "0995e930-1316-4cad-c253-d083db54a5a5"
      },
      "execution_count": 71,
      "outputs": [
        {
          "output_type": "execute_result",
          "data": {
            "text/plain": [
              "   User_ID Product_ID Gender   Age  Occupation City_Category  \\\n",
              "0  1000001  P00069042      F  0-17          10             A   \n",
              "\n",
              "  Stay_In_Current_City_Years  Marital_Status  Product_Category  Purchase  \n",
              "0                          2               0                 3      8370  "
            ],
            "text/html": [
              "\n",
              "  <div id=\"df-7c1ec558-fd3a-4a35-ba4c-4c9341f6326d\" class=\"colab-df-container\">\n",
              "    <div>\n",
              "<style scoped>\n",
              "    .dataframe tbody tr th:only-of-type {\n",
              "        vertical-align: middle;\n",
              "    }\n",
              "\n",
              "    .dataframe tbody tr th {\n",
              "        vertical-align: top;\n",
              "    }\n",
              "\n",
              "    .dataframe thead th {\n",
              "        text-align: right;\n",
              "    }\n",
              "</style>\n",
              "<table border=\"1\" class=\"dataframe\">\n",
              "  <thead>\n",
              "    <tr style=\"text-align: right;\">\n",
              "      <th></th>\n",
              "      <th>User_ID</th>\n",
              "      <th>Product_ID</th>\n",
              "      <th>Gender</th>\n",
              "      <th>Age</th>\n",
              "      <th>Occupation</th>\n",
              "      <th>City_Category</th>\n",
              "      <th>Stay_In_Current_City_Years</th>\n",
              "      <th>Marital_Status</th>\n",
              "      <th>Product_Category</th>\n",
              "      <th>Purchase</th>\n",
              "    </tr>\n",
              "  </thead>\n",
              "  <tbody>\n",
              "    <tr>\n",
              "      <th>0</th>\n",
              "      <td>1000001</td>\n",
              "      <td>P00069042</td>\n",
              "      <td>F</td>\n",
              "      <td>0-17</td>\n",
              "      <td>10</td>\n",
              "      <td>A</td>\n",
              "      <td>2</td>\n",
              "      <td>0</td>\n",
              "      <td>3</td>\n",
              "      <td>8370</td>\n",
              "    </tr>\n",
              "  </tbody>\n",
              "</table>\n",
              "</div>\n",
              "    <div class=\"colab-df-buttons\">\n",
              "\n",
              "  <div class=\"colab-df-container\">\n",
              "    <button class=\"colab-df-convert\" onclick=\"convertToInteractive('df-7c1ec558-fd3a-4a35-ba4c-4c9341f6326d')\"\n",
              "            title=\"Convert this dataframe to an interactive table.\"\n",
              "            style=\"display:none;\">\n",
              "\n",
              "  <svg xmlns=\"http://www.w3.org/2000/svg\" height=\"24px\" viewBox=\"0 -960 960 960\">\n",
              "    <path d=\"M120-120v-720h720v720H120Zm60-500h600v-160H180v160Zm220 220h160v-160H400v160Zm0 220h160v-160H400v160ZM180-400h160v-160H180v160Zm440 0h160v-160H620v160ZM180-180h160v-160H180v160Zm440 0h160v-160H620v160Z\"/>\n",
              "  </svg>\n",
              "    </button>\n",
              "\n",
              "  <style>\n",
              "    .colab-df-container {\n",
              "      display:flex;\n",
              "      gap: 12px;\n",
              "    }\n",
              "\n",
              "    .colab-df-convert {\n",
              "      background-color: #E8F0FE;\n",
              "      border: none;\n",
              "      border-radius: 50%;\n",
              "      cursor: pointer;\n",
              "      display: none;\n",
              "      fill: #1967D2;\n",
              "      height: 32px;\n",
              "      padding: 0 0 0 0;\n",
              "      width: 32px;\n",
              "    }\n",
              "\n",
              "    .colab-df-convert:hover {\n",
              "      background-color: #E2EBFA;\n",
              "      box-shadow: 0px 1px 2px rgba(60, 64, 67, 0.3), 0px 1px 3px 1px rgba(60, 64, 67, 0.15);\n",
              "      fill: #174EA6;\n",
              "    }\n",
              "\n",
              "    .colab-df-buttons div {\n",
              "      margin-bottom: 4px;\n",
              "    }\n",
              "\n",
              "    [theme=dark] .colab-df-convert {\n",
              "      background-color: #3B4455;\n",
              "      fill: #D2E3FC;\n",
              "    }\n",
              "\n",
              "    [theme=dark] .colab-df-convert:hover {\n",
              "      background-color: #434B5C;\n",
              "      box-shadow: 0px 1px 3px 1px rgba(0, 0, 0, 0.15);\n",
              "      filter: drop-shadow(0px 1px 2px rgba(0, 0, 0, 0.3));\n",
              "      fill: #FFFFFF;\n",
              "    }\n",
              "  </style>\n",
              "\n",
              "    <script>\n",
              "      const buttonEl =\n",
              "        document.querySelector('#df-7c1ec558-fd3a-4a35-ba4c-4c9341f6326d button.colab-df-convert');\n",
              "      buttonEl.style.display =\n",
              "        google.colab.kernel.accessAllowed ? 'block' : 'none';\n",
              "\n",
              "      async function convertToInteractive(key) {\n",
              "        const element = document.querySelector('#df-7c1ec558-fd3a-4a35-ba4c-4c9341f6326d');\n",
              "        const dataTable =\n",
              "          await google.colab.kernel.invokeFunction('convertToInteractive',\n",
              "                                                    [key], {});\n",
              "        if (!dataTable) return;\n",
              "\n",
              "        const docLinkHtml = 'Like what you see? Visit the ' +\n",
              "          '<a target=\"_blank\" href=https://colab.research.google.com/notebooks/data_table.ipynb>data table notebook</a>'\n",
              "          + ' to learn more about interactive tables.';\n",
              "        element.innerHTML = '';\n",
              "        dataTable['output_type'] = 'display_data';\n",
              "        await google.colab.output.renderOutput(dataTable, element);\n",
              "        const docLink = document.createElement('div');\n",
              "        docLink.innerHTML = docLinkHtml;\n",
              "        element.appendChild(docLink);\n",
              "      }\n",
              "    </script>\n",
              "  </div>\n",
              "\n",
              "\n",
              "    </div>\n",
              "  </div>\n"
            ],
            "application/vnd.google.colaboratory.intrinsic+json": {
              "type": "dataframe",
              "variable_name": "df"
            }
          },
          "metadata": {},
          "execution_count": 71
        }
      ]
    },
    {
      "cell_type": "code",
      "source": [
        "df.groupby('Age')['Purchase'].mean()"
      ],
      "metadata": {
        "colab": {
          "base_uri": "https://localhost:8080/",
          "height": 346
        },
        "id": "_ScXMU7T6JtL",
        "outputId": "97744a20-80b4-426f-a9ec-2a8f3b6d3666"
      },
      "execution_count": 72,
      "outputs": [
        {
          "output_type": "execute_result",
          "data": {
            "text/plain": [
              "Age\n",
              "0-17     8940.649053\n",
              "18-25    9169.010977\n",
              "26-35    9243.780119\n",
              "36-45    9322.921909\n",
              "46-50    9204.211483\n",
              "51-55    9514.863250\n",
              "55+      9327.796549\n",
              "Name: Purchase, dtype: float64"
            ],
            "text/html": [
              "<div>\n",
              "<style scoped>\n",
              "    .dataframe tbody tr th:only-of-type {\n",
              "        vertical-align: middle;\n",
              "    }\n",
              "\n",
              "    .dataframe tbody tr th {\n",
              "        vertical-align: top;\n",
              "    }\n",
              "\n",
              "    .dataframe thead th {\n",
              "        text-align: right;\n",
              "    }\n",
              "</style>\n",
              "<table border=\"1\" class=\"dataframe\">\n",
              "  <thead>\n",
              "    <tr style=\"text-align: right;\">\n",
              "      <th></th>\n",
              "      <th>Purchase</th>\n",
              "    </tr>\n",
              "    <tr>\n",
              "      <th>Age</th>\n",
              "      <th></th>\n",
              "    </tr>\n",
              "  </thead>\n",
              "  <tbody>\n",
              "    <tr>\n",
              "      <th>0-17</th>\n",
              "      <td>8940.649053</td>\n",
              "    </tr>\n",
              "    <tr>\n",
              "      <th>18-25</th>\n",
              "      <td>9169.010977</td>\n",
              "    </tr>\n",
              "    <tr>\n",
              "      <th>26-35</th>\n",
              "      <td>9243.780119</td>\n",
              "    </tr>\n",
              "    <tr>\n",
              "      <th>36-45</th>\n",
              "      <td>9322.921909</td>\n",
              "    </tr>\n",
              "    <tr>\n",
              "      <th>46-50</th>\n",
              "      <td>9204.211483</td>\n",
              "    </tr>\n",
              "    <tr>\n",
              "      <th>51-55</th>\n",
              "      <td>9514.863250</td>\n",
              "    </tr>\n",
              "    <tr>\n",
              "      <th>55+</th>\n",
              "      <td>9327.796549</td>\n",
              "    </tr>\n",
              "  </tbody>\n",
              "</table>\n",
              "</div><br><label><b>dtype:</b> float64</label>"
            ]
          },
          "metadata": {},
          "execution_count": 72
        }
      ]
    },
    {
      "cell_type": "code",
      "source": [
        "teen=df[df[\"Age\"]=='0-17']\n",
        "young1=df[df[\"Age\"]=='18-25']\n",
        "young2=df[df[\"Age\"]=='26-35']\n",
        "mid1=df[df[\"Age\"]=='36-45']\n",
        "mid2=df[df[\"Age\"]=='46-50']\n",
        "senior1=df[df[\"Age\"]=='51-55']\n",
        "senior2=df[df[\"Age\"]=='55+']"
      ],
      "metadata": {
        "id": "jYWrkJzU7EyM"
      },
      "execution_count": 73,
      "outputs": []
    },
    {
      "cell_type": "code",
      "source": [
        "m1=teen['Purchase'].mean()\n",
        "std1=teen['Purchase'].std()\n",
        "m2=young1['Purchase'].mean()\n",
        "std2=young1['Purchase'].std()\n",
        "m3=young2['Purchase'].mean()\n",
        "std3=young2['Purchase'].std()\n",
        "m4=mid1['Purchase'].mean()\n",
        "std4=mid1['Purchase'].std()\n",
        "m5=mid2['Purchase'].mean()\n",
        "std5=mid2['Purchase'].std()\n",
        "m6=senior1['Purchase'].mean()\n",
        "std6=senior1['Purchase'].std()\n",
        "m7=senior2['Purchase'].mean()\n",
        "std7=senior2['Purchase'].std()"
      ],
      "metadata": {
        "id": "WTjM87Ti8ilw"
      },
      "execution_count": 74,
      "outputs": []
    },
    {
      "cell_type": "code",
      "source": [
        "print(m1,std1)\n",
        "print(m2,std2)\n",
        "print(m3,std3)\n",
        "print(m4,std4)\n",
        "print(m5,std5)\n",
        "print(m6,std6)\n",
        "print(m7,std7)"
      ],
      "metadata": {
        "colab": {
          "base_uri": "https://localhost:8080/"
        },
        "id": "1nWgpJX4_yRl",
        "outputId": "7f40ee1b-c78d-409b-924a-7f11e5c8e792"
      },
      "execution_count": 75,
      "outputs": [
        {
          "output_type": "stream",
          "name": "stdout",
          "text": [
            "8940.64905310555 4940.597254004381\n",
            "9169.010977322898 4889.430684308766\n",
            "9243.780119041656 4855.192053150712\n",
            "9322.92190922891 4847.597841932429\n",
            "9204.211483337345 4785.942157208538\n",
            "9514.863250305187 4873.62966817001\n",
            "9327.796549479166 4779.935888621669\n"
          ]
        }
      ]
    },
    {
      "cell_type": "code",
      "source": [
        "sns.boxplot(data=df,x='Age',y='Purchase')"
      ],
      "metadata": {
        "colab": {
          "base_uri": "https://localhost:8080/",
          "height": 488
        },
        "id": "VTlp-uA9AoqQ",
        "outputId": "f8180fc7-96e7-4219-d9d4-3d5734b9dce0"
      },
      "execution_count": 76,
      "outputs": [
        {
          "output_type": "execute_result",
          "data": {
            "text/plain": [
              "<Axes: xlabel='Age', ylabel='Purchase'>"
            ]
          },
          "metadata": {},
          "execution_count": 76
        },
        {
          "output_type": "display_data",
          "data": {
            "text/plain": [
              "<Figure size 640x480 with 1 Axes>"
            ],
            "image/png": "[encoded data removed]"
          },
          "metadata": {}
        }
      ]
    },
    {
      "cell_type": "code",
      "source": [
        "sample1=[ np.mean(teen['Purchase'].sample(300)) for i in range(1000)]\n",
        "mean1=np.mean(sample1)\n",
        "print(mean1)\n",
        "std1=np.std(sample1)\n",
        "se=std1/np.sqrt(300)\n",
        "print(se)\n",
        "z=1.96\n",
        "lower=mean1-(z*se)\n",
        "print(lower)\n",
        "upper=mean1+(z*se)\n",
        "print(upper)\n"
      ],
      "metadata": {
        "colab": {
          "base_uri": "https://localhost:8080/"
        },
        "id": "A3aHf3ZBCP6F",
        "outputId": "cb998b70-a07f-444a-a787-aa411d7c49fb"
      },
      "execution_count": 77,
      "outputs": [
        {
          "output_type": "stream",
          "name": "stdout",
          "text": [
            "8926.033016666668\n",
            "16.514018481486808\n",
            "8893.665540442955\n",
            "8958.400492890381\n"
          ]
        }
      ]
    },
    {
      "cell_type": "code",
      "source": [
        "sample2=[ np.mean(young1['Purchase'].sample(300)) for i in range(1000)]\n",
        "mean2=np.mean(sample2)\n",
        "print(mean2)\n",
        "std2=np.std(sample2)\n",
        "se=std2/np.sqrt(300)\n",
        "print(se)\n",
        "z=1.96\n",
        "lower=mean2-(z*se)\n",
        "print(lower)\n",
        "upper=mean2+(z*se)\n",
        "print(upper)"
      ],
      "metadata": {
        "colab": {
          "base_uri": "https://localhost:8080/"
        },
        "id": "Eiy7gSNWD0QA",
        "outputId": "695df176-f7e0-4ed3-8008-c2d0a0528531"
      },
      "execution_count": 78,
      "outputs": [
        {
          "output_type": "stream",
          "name": "stdout",
          "text": [
            "9170.985676666665\n",
            "15.821015978935518\n",
            "9139.976485347952\n",
            "9201.994867985379\n"
          ]
        }
      ]
    },
    {
      "cell_type": "code",
      "source": [
        "sample3=[ np.mean(young2['Purchase'].sample(300)) for i in range(1000)]\n",
        "mean3=np.mean(sample3)\n",
        "print(mean3)\n",
        "std3=np.std(sample3)\n",
        "se=std3/np.sqrt(300)\n",
        "print(se)\n",
        "z=1.96\n",
        "lower=mean3-(z*se)\n",
        "print(lower)\n",
        "upper=mean3+(z*se)\n",
        "print(upper)"
      ],
      "metadata": {
        "colab": {
          "base_uri": "https://localhost:8080/"
        },
        "id": "MrKyyi_aE5ou",
        "outputId": "2466b4f0-0c52-466e-87e1-7a1c3e1d5c5f"
      },
      "execution_count": 79,
      "outputs": [
        {
          "output_type": "stream",
          "name": "stdout",
          "text": [
            "9248.28978\n",
            "15.461021990277311\n",
            "9217.986176899056\n",
            "9278.593383100942\n"
          ]
        }
      ]
    },
    {
      "cell_type": "code",
      "source": [
        "sample4=[ np.mean(mid1['Purchase'].sample(300)) for i in range(1000)]\n",
        "mean4=np.mean(sample4)\n",
        "print(mean4)\n",
        "std4=np.std(sample4)\n",
        "se=std4/np.sqrt(300)\n",
        "print(se)\n",
        "z=1.96\n",
        "lower=mean4-(z*se)\n",
        "print(lower)\n",
        "upper=mean4+(z*se)\n",
        "print(upper)"
      ],
      "metadata": {
        "colab": {
          "base_uri": "https://localhost:8080/"
        },
        "id": "EU5EL6ZKGQQX",
        "outputId": "bf1eda72-2779-425b-b22d-653f49bb00ba"
      },
      "execution_count": 80,
      "outputs": [
        {
          "output_type": "stream",
          "name": "stdout",
          "text": [
            "9316.136873333335\n",
            "16.332485612924206\n",
            "9284.125201532002\n",
            "9348.148545134667\n"
          ]
        }
      ]
    },
    {
      "cell_type": "code",
      "source": [
        "sample5=[ np.mean(mid2['Purchase'].sample(300)) for i in range(1000)]\n",
        "mean5=np.mean(sample5)\n",
        "print(mean5)\n",
        "std5=np.std(sample5)\n",
        "se=std5/np.sqrt(300)\n",
        "print(se)\n",
        "z=1.96\n",
        "lower=mean5-(z*se)\n",
        "print(lower)\n",
        "upper=mean5+(z*se)\n",
        "print(upper)"
      ],
      "metadata": {
        "colab": {
          "base_uri": "https://localhost:8080/"
        },
        "id": "BSYRMocMGizx",
        "outputId": "4a2cb0ab-7819-4931-c22b-12cf93cd3b8b"
      },
      "execution_count": 81,
      "outputs": [
        {
          "output_type": "stream",
          "name": "stdout",
          "text": [
            "9206.33886\n",
            "15.19761257872194\n",
            "9176.551539345704\n",
            "9236.126180654295\n"
          ]
        }
      ]
    },
    {
      "cell_type": "code",
      "source": [
        "sample6=[ np.mean(senior1['Purchase'].sample(300)) for i in range(1000)]\n",
        "mean6=np.mean(sample6)\n",
        "print(mean6)\n",
        "std6=np.std(sample6)\n",
        "se=std6/np.sqrt(300)\n",
        "print(se)\n",
        "z=1.96\n",
        "lower=mean6-(z*se)\n",
        "print(lower)\n",
        "upper=mean6+(z*se)\n",
        "print(upper)"
      ],
      "metadata": {
        "colab": {
          "base_uri": "https://localhost:8080/"
        },
        "id": "ciWaMRF4Gy3U",
        "outputId": "41715b30-3f0b-4e1c-b8d7-c54c8284af22"
      },
      "execution_count": 82,
      "outputs": [
        {
          "output_type": "stream",
          "name": "stdout",
          "text": [
            "9511.282736666668\n",
            "16.184215801284722\n",
            "9479.56167369615\n",
            "9543.003799637187\n"
          ]
        }
      ]
    },
    {
      "cell_type": "code",
      "source": [
        "sample7=[ np.mean(senior2['Purchase'].sample(300)) for i in range(1000)]\n",
        "mean7=np.mean(sample7)\n",
        "print(mean7)\n",
        "std7=np.std(sample7)\n",
        "se=std7/np.sqrt(300)\n",
        "print(se)\n",
        "z=1.96\n",
        "lower=mean7-(z*se)\n",
        "print(lower)\n",
        "upper=mean7+(z*se)\n",
        "print(upper)"
      ],
      "metadata": {
        "colab": {
          "base_uri": "https://localhost:8080/"
        },
        "id": "-rlAfTEuHOlb",
        "outputId": "8a53c848-0b64-45a2-fa24-f0f3c48fca75"
      },
      "execution_count": 83,
      "outputs": [
        {
          "output_type": "stream",
          "name": "stdout",
          "text": [
            "9344.915813333333\n",
            "15.372234451036933\n",
            "9314.7862338093\n",
            "9375.045392857366\n"
          ]
        }
      ]
    },
    {
      "cell_type": "code",
      "source": [
        "sns.histplot(sample1,kde=True,bins=100,color='r')\n",
        "sns.histplot(sample2,kde=True,bins=100,color='g')\n",
        "sns.histplot(sample3,kde=True,bins=100,color='b')\n",
        "sns.histplot(sample4,kde=True,bins=100,color='y')\n",
        "sns.histplot(sample5,kde=True,bins=100,color='c')\n",
        "sns.histplot(sample6,kde=True,bins=100,color='m')\n",
        "sns.histplot(sample7,kde=True,bins=100,color='k')"
      ],
      "metadata": {
        "colab": {
          "base_uri": "https://localhost:8080/",
          "height": 467
        },
        "id": "JgPYRvTjHjsY",
        "outputId": "5fb68b30-c5f8-407b-8f97-5e2c498c409d"
      },
      "execution_count": 84,
      "outputs": [
        {
          "output_type": "execute_result",
          "data": {
            "text/plain": [
              "<Axes: ylabel='Count'>"
            ]
          },
          "metadata": {},
          "execution_count": 84
        },
        {
          "output_type": "display_data",
          "data": {
            "text/plain": [
              "<Figure size 640x480 with 1 Axes>"
            ],
            "image/png": "[encoded data removed]"
          },
          "metadata": {}
        }
      ]
    },
    {
      "cell_type": "code",
      "source": [
        "sample1=[ np.mean(teen['Purchase'].sample(3000)) for i in range(1000)]\n",
        "mean1=np.mean(sample1)\n",
        "print(mean1)\n",
        "std1=np.std(sample1)\n",
        "se=std1/np.sqrt(3000)\n",
        "print(se)\n",
        "z=1.96\n",
        "lower=mean1-(z*se)\n",
        "print(lower)\n",
        "upper=mean1+(z*se)\n",
        "print(upper)\n",
        "\n",
        "sample2=[ np.mean(young1['Purchase'].sample(3000)) for i in range(1000)]\n",
        "mean2=np.mean(sample2)\n",
        "print(mean2)\n",
        "std2=np.std(sample2)\n",
        "se=std2/np.sqrt(3000)\n",
        "print(se)\n",
        "z=1.96\n",
        "lower=mean2-(z*se)\n",
        "print(lower)\n",
        "upper=mean2+(z*se)\n",
        "print(upper)\n",
        "\n",
        "sample3=[ np.mean(young2['Purchase'].sample(3000)) for i in range(1000)]\n",
        "mean3=np.mean(sample3)\n",
        "print(mean3)\n",
        "std3=np.std(sample3)\n",
        "se=std3/np.sqrt(3000)\n",
        "print(se)\n",
        "z=1.96\n",
        "lower=mean3-(z*se)\n",
        "print(lower)\n",
        "upper=mean3+(z*se)\n",
        "print(upper)\n",
        "\n",
        "sample4=[ np.mean(mid1['Purchase'].sample(3000)) for i in range(1000)]\n",
        "mean4=np.mean(sample4)\n",
        "print(mean4)\n",
        "std4=np.std(sample4)\n",
        "se=std4/np.sqrt(3000)\n",
        "print(se)\n",
        "z=1.96\n",
        "lower=mean4-(z*se)\n",
        "print(lower)\n",
        "upper=mean4+(z*se)\n",
        "print(upper)\n",
        "\n",
        "sample5=[ np.mean(mid2['Purchase'].sample(3000)) for i in range(1000)]\n",
        "mean5=np.mean(sample5)\n",
        "print(mean5)\n",
        "std5=np.std(sample5)\n",
        "se=std5/np.sqrt(3000)\n",
        "print(se)\n",
        "z=1.96\n",
        "lower=mean5-(z*se)\n",
        "print(lower)\n",
        "upper=mean5+(z*se)\n",
        "print(upper)\n",
        "\n",
        "sample6=[ np.mean(senior1['Purchase'].sample(3000)) for i in range(1000)]\n",
        "mean6=np.mean(sample6)\n",
        "print(mean6)\n",
        "std6=np.std(sample6)\n",
        "se=std6/np.sqrt(3000)\n",
        "print(se)\n",
        "z=1.96\n",
        "lower=mean6-(z*se)\n",
        "print(lower)\n",
        "upper=mean6+(z*se)\n",
        "print(upper)\n",
        "\n",
        "sample7=[ np.mean(senior2['Purchase'].sample(3000)) for i in range(1000)]\n",
        "mean7=np.mean(sample7)\n",
        "print(mean7)\n",
        "std7=np.std(sample7)\n",
        "se=std7/np.sqrt(3000)\n",
        "print(se)\n",
        "z=1.96\n",
        "lower=mean7-(z*se)\n",
        "print(lower)\n",
        "upper=mean7+(z*se)\n",
        "print(upper)"
      ],
      "metadata": {
        "colab": {
          "base_uri": "https://localhost:8080/"
        },
        "id": "sE90W0XBz_vH",
        "outputId": "3cdb9063-022d-4088-f382-238209bfb335"
      },
      "execution_count": 85,
      "outputs": [
        {
          "output_type": "stream",
          "name": "stdout",
          "text": [
            "8935.570155333333\n",
            "1.49238535867927\n",
            "8932.645080030321\n",
            "8938.495230636345\n",
            "9168.866793666666\n",
            "1.61812996034446\n",
            "9165.695258944392\n",
            "9172.03832838894\n",
            "9243.34338\n",
            "1.6692408841923547\n",
            "9240.071667866983\n",
            "9246.615092133017\n",
            "9324.658559333333\n",
            "1.576704966157145\n",
            "9321.568217599664\n",
            "9327.748901067001\n",
            "9206.955042666668\n",
            "1.546098675924492\n",
            "9203.924689261856\n",
            "9209.98539607148\n",
            "9516.915147333333\n",
            "1.5933758042837576\n",
            "9513.792130756938\n",
            "9520.038163909729\n",
            "9326.876039666668\n",
            "1.442186413908832\n",
            "9324.049354295406\n",
            "9329.702725037929\n"
          ]
        }
      ]
    },
    {
      "cell_type": "code",
      "source": [
        "sns.histplot(sample1,kde=True,bins=100,color='r')\n",
        "sns.histplot(sample2,kde=True,bins=100,color='g')\n",
        "sns.histplot(sample3,kde=True,bins=100,color='b')\n",
        "sns.histplot(sample4,kde=True,bins=100,color='y')\n",
        "sns.histplot(sample5,kde=True,bins=100,color='c')\n",
        "sns.histplot(sample6,kde=True,bins=100,color='m')\n",
        "sns.histplot(sample7,kde=True,bins=100,color='k')"
      ],
      "metadata": {
        "colab": {
          "base_uri": "https://localhost:8080/",
          "height": 467
        },
        "id": "PkQPFKkF1qat",
        "outputId": "efcb10af-db3d-4d20-baaf-5335aaf9c679"
      },
      "execution_count": 86,
      "outputs": [
        {
          "output_type": "execute_result",
          "data": {
            "text/plain": [
              "<Axes: ylabel='Count'>"
            ]
          },
          "metadata": {},
          "execution_count": 86
        },
        {
          "output_type": "display_data",
          "data": {
            "text/plain": [
              "<Figure size 640x480 with 1 Axes>"
            ],
            "image/png": "[encoded data removed]"
          },
          "metadata": {}
        }
      ]
    },
    {
      "cell_type": "code",
      "source": [
        "sample1=[ np.mean(teen['Purchase'].sample(30000,replace=True)) for i in range(1000)]\n",
        "mean1=np.mean(sample1)\n",
        "print(mean1)\n",
        "std1=np.std(sample1)\n",
        "se=std1/np.sqrt(30000)\n",
        "print(se)\n",
        "z=1.96\n",
        "lower=mean1-(z*se)\n",
        "print(lower)\n",
        "upper=mean1+(z*se)\n",
        "print(upper)\n",
        "\n",
        "sample2=[ np.mean(young1['Purchase'].sample(30000,replace=True)) for i in range(1000)]\n",
        "mean2=np.mean(sample2)\n",
        "print(mean2)\n",
        "std2=np.std(sample2)\n",
        "se=std2/np.sqrt(30000)\n",
        "print(se)\n",
        "z=1.96\n",
        "lower=mean2-(z*se)\n",
        "print(lower)\n",
        "upper=mean2+(z*se)\n",
        "print(upper)\n",
        "\n",
        "sample3=[ np.mean(young2['Purchase'].sample(30000,replace=True)) for i in range(1000)]\n",
        "mean3=np.mean(sample3)\n",
        "print(mean3)\n",
        "std3=np.std(sample3)\n",
        "se=std3/np.sqrt(30000)\n",
        "print(se)\n",
        "z=1.96\n",
        "lower=mean3-(z*se)\n",
        "print(lower)\n",
        "upper=mean3+(z*se)\n",
        "print(upper)\n",
        "\n",
        "sample4=[ np.mean(mid1['Purchase'].sample(30000,replace=True)) for i in range(1000)]\n",
        "mean4=np.mean(sample4)\n",
        "print(mean4)\n",
        "std4=np.std(sample4)\n",
        "se=std4/np.sqrt(30000)\n",
        "print(se)\n",
        "z=1.96\n",
        "lower=mean4-(z*se)\n",
        "print(lower)\n",
        "upper=mean4+(z*se)\n",
        "print(upper)\n",
        "\n",
        "sample5=[ np.mean(mid2['Purchase'].sample(30000,replace=True)) for i in range(1000)]\n",
        "mean5=np.mean(sample5)\n",
        "print(mean5)\n",
        "std5=np.std(sample5)\n",
        "se=std5/np.sqrt(30000)\n",
        "print(se)\n",
        "z=1.96\n",
        "lower=mean5-(z*se)\n",
        "print(lower)\n",
        "upper=mean5+(z*se)\n",
        "print(upper)\n",
        "\n",
        "sample6=[ np.mean(senior1['Purchase'].sample(30000,replace=True)) for i in range(1000)]\n",
        "mean6=np.mean(sample6)\n",
        "print(mean6)\n",
        "std6=np.std(sample6)\n",
        "se=std6/np.sqrt(30000)\n",
        "print(se)\n",
        "z=1.96\n",
        "lower=mean6-(z*se)\n",
        "print(lower)\n",
        "upper=mean6+(z*se)\n",
        "print(upper)\n",
        "\n",
        "sample7=[ np.mean(senior2['Purchase'].sample(30000,replace=True)) for i in range(1000)]\n",
        "mean7=np.mean(sample7)\n",
        "print(mean7)\n",
        "std7=np.std(sample7)\n",
        "se=std7/np.sqrt(30000)\n",
        "print(se)\n",
        "z=1.96\n",
        "lower=mean7-(z*se)\n",
        "print(lower)\n",
        "upper=mean7+(z*se)\n",
        "print(upper)"
      ],
      "metadata": {
        "colab": {
          "base_uri": "https://localhost:8080/"
        },
        "id": "HRNrfpGd2AAi",
        "outputId": "b720fc79-ee8a-44ab-c84e-9379c5e60141"
      },
      "execution_count": 87,
      "outputs": [
        {
          "output_type": "stream",
          "name": "stdout",
          "text": [
            "8940.726786966667\n",
            "0.1665236903487722\n",
            "8940.400400533583\n",
            "8941.05317339975\n",
            "9169.560664266666\n",
            "0.16247648435030698\n",
            "9169.242210357339\n",
            "9169.879118175993\n",
            "9244.096946999998\n",
            "0.15915854353332057\n",
            "9243.784996254673\n",
            "9244.408897745323\n",
            "9323.7907724\n",
            "0.15451426124360407\n",
            "9323.487924447962\n",
            "9324.093620352038\n",
            "9203.574647500001\n",
            "0.16489245745592856\n",
            "9203.251458283388\n",
            "9203.897836716615\n",
            "9515.708157466666\n",
            "0.16936645398311884\n",
            "9515.37619921686\n",
            "9516.040115716472\n",
            "9327.194392266667\n",
            "0.15969603443288707\n",
            "9326.881388039179\n",
            "9327.507396494155\n"
          ]
        }
      ]
    },
    {
      "cell_type": "code",
      "source": [
        "sns.histplot(sample1,kde=True,bins=100,color='r')\n",
        "sns.histplot(sample2,kde=True,bins=100,color='g')\n",
        "sns.histplot(sample3,kde=True,bins=100,color='b')\n",
        "sns.histplot(sample4,kde=True,bins=100,color='y')\n",
        "sns.histplot(sample5,kde=True,bins=100,color='c')\n",
        "sns.histplot(sample6,kde=True,bins=100,color='m')\n",
        "sns.histplot(sample7,kde=True,bins=100,color='k')"
      ],
      "metadata": {
        "colab": {
          "base_uri": "https://localhost:8080/",
          "height": 467
        },
        "id": "9aK_Pm193KmC",
        "outputId": "d5bb2c94-fa92-48de-c01f-b80f0624aacc"
      },
      "execution_count": 88,
      "outputs": [
        {
          "output_type": "execute_result",
          "data": {
            "text/plain": [
              "<Axes: ylabel='Count'>"
            ]
          },
          "metadata": {},
          "execution_count": 88
        },
        {
          "output_type": "display_data",
          "data": {
            "text/plain": [
              "<Figure size 640x480 with 1 Axes>"
            ],
            "image/png": "[encoded data removed]"
          },
          "metadata": {}
        }
      ]
    },
    {
      "cell_type": "code",
      "source": [
        "sns.violinplot(data=[sample1, sample2, sample3, sample4, sample5, sample6, sample7])"
      ],
      "metadata": {
        "colab": {
          "base_uri": "https://localhost:8080/",
          "height": 467
        },
        "id": "_2gD3KxR3iAq",
        "outputId": "3829ca37-5b1b-416d-a52e-cdceab5073fe"
      },
      "execution_count": 89,
      "outputs": [
        {
          "output_type": "execute_result",
          "data": {
            "text/plain": [
              "<Axes: >"
            ]
          },
          "metadata": {},
          "execution_count": 89
        },
        {
          "output_type": "display_data",
          "data": {
            "text/plain": [
              "<Figure size 640x480 with 1 Axes>"
            ],
            "image/png": "[encoded data removed]"
          },
          "metadata": {}
        }
      ]
    },
    {
      "cell_type": "code",
      "source": [
        "sns.boxplot(data=[sample1, sample2, sample3, sample4, sample5, sample6, sample7])\n"
      ],
      "metadata": {
        "colab": {
          "base_uri": "https://localhost:8080/",
          "height": 467
        },
        "id": "fro6kgpQ3ngE",
        "outputId": "c47764ab-1b36-41a6-d4a6-a242006acd94"
      },
      "execution_count": 90,
      "outputs": [
        {
          "output_type": "execute_result",
          "data": {
            "text/plain": [
              "<Axes: >"
            ]
          },
          "metadata": {},
          "execution_count": 90
        },
        {
          "output_type": "display_data",
          "data": {
            "text/plain": [
              "<Figure size 640x480 with 1 Axes>"
            ],
            "image/png": "[encoded data removed]"
          },
          "metadata": {}
        }
      ]
    },
    {
      "cell_type": "code",
      "source": [
        "from scipy.stats import f_oneway"
      ],
      "metadata": {
        "id": "NlBsV-F_49wb"
      },
      "execution_count": 91,
      "outputs": []
    },
    {
      "cell_type": "code",
      "source": [
        "f_oneway(sample1, sample2, sample3, sample4, sample5, sample6, sample7)"
      ],
      "metadata": {
        "colab": {
          "base_uri": "https://localhost:8080/"
        },
        "id": "puPU1irH59pF",
        "outputId": "2d69640e-2ef0-4499-d173-67853db91846"
      },
      "execution_count": 92,
      "outputs": [
        {
          "output_type": "execute_result",
          "data": {
            "text/plain": [
              "F_onewayResult(statistic=np.float64(39167.90318984815), pvalue=np.float64(0.0))"
            ]
          },
          "metadata": {},
          "execution_count": 92
        }
      ]
    },
    {
      "cell_type": "markdown",
      "source": [
        "increase the sample size show age has affect on spending\n",
        "50 to 55 and 55 spend more"
      ],
      "metadata": {
        "id": "Z1yMbCzz7ivB"
      }
    }
  ],
  "metadata": {
    "colab": {
      "provenance": []
    },
    "kernelspec": {
      "display_name": "Python 3",
      "name": "python3"
    },
    "language_info": {
      "name": "python"
    }
  },
  "nbformat": 4,
  "nbformat_minor": 0
}